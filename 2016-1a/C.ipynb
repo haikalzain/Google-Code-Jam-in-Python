{
 "cells": [
  {
   "cell_type": "code",
   "execution_count": 42,
   "metadata": {
    "collapsed": false
   },
   "outputs": [
    {
     "data": {
      "text/plain": [
       "5"
      ]
     },
     "execution_count": 42,
     "metadata": {},
     "output_type": "execute_result"
    }
   ],
   "source": [
    "def solve(N, raw):\n",
    "    paths = dict(zip(range(1, N+1), raw))\n",
    "    #print paths\n",
    "    sufficient = {}\n",
    "    main = []\n",
    "    cycles = [test_cycle(paths, i) for i in range(1, N+1)]\n",
    "    max_cycle = max(cycles)\n",
    "    for i, val in enumerate(cycles):\n",
    "        if (i+1) not in sufficient and val == 2:\n",
    "            sufficient[i+1] = 1\n",
    "            other = paths[i+1]\n",
    "            sufficient[other] = 1\n",
    "            main.append((i+1, other))\n",
    "    \n",
    "    good = [i for i in range(1, N+1) if test_sufficient(paths, sufficient, i)]\n",
    "    total = sum([sufficient[x] + sufficient[y] for x, y in main])\n",
    "    return max(total, max_cycle)\n",
    "    \n",
    "def test_sufficient(paths, sufficient, starting):\n",
    "    vis = set()\n",
    "    curr = starting\n",
    "    while True:\n",
    "        #print curr\n",
    "        vis.add(curr)\n",
    "        if curr in sufficient:\n",
    "            sufficient[curr] = max(sufficient[curr], len(vis))\n",
    "            return True\n",
    "        if paths[curr] in vis:\n",
    "            return False\n",
    "        \n",
    "        curr = paths[curr]\n",
    "    return False\n",
    "\n",
    "def test_cycle(paths, starting):\n",
    "    vis = {}\n",
    "    curr = starting\n",
    "    while True:\n",
    "        vis[curr] = True\n",
    "        if paths[curr] == starting:\n",
    "            return len(vis)\n",
    "        if paths[curr] in vis:\n",
    "            return 0\n",
    "        curr = paths[curr]\n",
    "    \n",
    "    return 0\n",
    "\n",
    "\n",
    "solve(5, [3, 5, 4, 5, 4])"
   ]
  },
  {
   "cell_type": "code",
   "execution_count": 46,
   "metadata": {
    "collapsed": false
   },
   "outputs": [],
   "source": [
    "from collections import *\n",
    "infile = open('C-large-practice.in')\n",
    "outfile = open('out.txt', 'w')\n",
    "T = int(infile.readline())\n",
    "for t in range(1, T+1):\n",
    "    N = int(infile.readline())\n",
    "    raw = map(int, infile.readline().split())\n",
    "    outfile.write('Case #{}: {}\\n'.format(t, solve(N, raw)))\n",
    "\n",
    "infile.close()\n",
    "outfile.close()"
   ]
  }
 ],
 "metadata": {
  "kernelspec": {
   "display_name": "Python 2",
   "language": "python",
   "name": "python2"
  },
  "language_info": {
   "codemirror_mode": {
    "name": "ipython",
    "version": 2
   },
   "file_extension": ".py",
   "mimetype": "text/x-python",
   "name": "python",
   "nbconvert_exporter": "python",
   "pygments_lexer": "ipython2",
   "version": "2.7.12"
  }
 },
 "nbformat": 4,
 "nbformat_minor": 1
}
