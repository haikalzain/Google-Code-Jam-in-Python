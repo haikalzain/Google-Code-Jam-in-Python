{
 "cells": [
  {
   "cell_type": "code",
   "execution_count": 8,
   "metadata": {
    "collapsed": false
   },
   "outputs": [
    {
     "data": {
      "text/plain": [
       "1"
      ]
     },
     "execution_count": 8,
     "metadata": {},
     "output_type": "execute_result"
    }
   ],
   "source": [
    "N = 200000\n",
    "INF = 40000000000\n",
    "def solve(Hd, Ad, Hk, Ak, B, D):\n",
    "    turns = min([calc_buff_turns(x, B, Hk, Ad) for x in range(1, N)])\n",
    "    target_vals = [(Hd - 1)/x for x in range(1, N)]\n",
    "    target_vals.append(0)\n",
    "    return min([calc_debuff_turns(turns, target) for target in target_vals])\n",
    "    \n",
    "        \n",
    "    #best = min([calc_cures(d,) for d in range(1, N)])\n",
    "\n",
    "def calc_buff_turns(buff_turns, B, Hk, Ad):\n",
    "    return buff_turns + Hk / (Ad + B * buff_turns) + ((Hk % (Ad + B * buff_turns)) > 0)\n",
    "\n",
    "def ceil(a, b):\n",
    "    return (a / b) + ((a%b) > 0)\n",
    "\n",
    "def calc_debuff_turns(turns, target):\n",
    "    if target == 0:\n",
    "        return ceil(Hd - target, D) + turns\n",
    "    cure_interval = (Hd - 1)/target\n",
    "    moves = ceil(Hd - target, D)\n",
    "    return turns + calc_cures(turns, cure_interval)\n",
    "\n",
    "def calc_cures(turns, cure_interval):    \n",
    "    return turns / (cure_interval - 1) - ((turns % (cure_interval - 1)) == 0)\n",
    "\n",
    "    "
   ]
  },
  {
   "cell_type": "code",
   "execution_count": null,
   "metadata": {
    "collapsed": true
   },
   "outputs": [],
   "source": [
    "infile = open('C-small-practice.in')\n",
    "outfile = open('out.txt', 'w')\n",
    "T = int(infile.readline())\n",
    "for t in range(1, T+1):\n",
    "    print t\n",
    "    Hd, Ad, Hk, Ak, B, D = map(int, infile.readline().split())\n",
    "    #print Hd, Ad, Hk, Ak, B, D\n",
    "    outfile.write('Case #{}: {}\\n'.format(t, solve(Hd, Ad, Hk, Ak, B, D)))\n",
    "\n",
    "infile.close()\n",
    "outfile.close()"
   ]
  }
 ],
 "metadata": {
  "kernelspec": {
   "display_name": "Python 2",
   "language": "python",
   "name": "python2"
  },
  "language_info": {
   "codemirror_mode": {
    "name": "ipython",
    "version": 2
   },
   "file_extension": ".py",
   "mimetype": "text/x-python",
   "name": "python",
   "nbconvert_exporter": "python",
   "pygments_lexer": "ipython2",
   "version": "2.7.12"
  }
 },
 "nbformat": 4,
 "nbformat_minor": 1
}
