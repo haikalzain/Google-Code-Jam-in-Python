{
 "cells": [
  {
   "cell_type": "code",
   "execution_count": 42,
   "metadata": {
    "collapsed": false
   },
   "outputs": [
    {
     "data": {
      "text/plain": [
       "['R', 'B', 'R', 'B']"
      ]
     },
     "execution_count": 42,
     "metadata": {},
     "output_type": "execute_result"
    }
   ],
   "source": [
    "def construct(colors):\n",
    "    c = sorted(colors.iteritems(), key=lambda x: x[1])\n",
    "    X, Y, Z = c[2][0], c[1][0], c[0][0]\n",
    "    if c[2][1] > c[0][1] + c[1][1]:\n",
    "        return 'IMPOSSIBLE'\n",
    "    result = []\n",
    "    while colors[X] or colors[Y] or colors[Z]:\n",
    "        if colors[X]:\n",
    "            result.append(X)\n",
    "            colors[X] -= 1\n",
    "        if colors[Y] > colors[Z]:         \n",
    "            result.append(Y)\n",
    "            colors[Y] -= 1\n",
    "        else:\n",
    "            result.append(Z)\n",
    "            colors[Z] -= 1\n",
    "    return result\n",
    "\n",
    "def solve(R, O, Y, G, B, V):\n",
    "    total = R + O + Y + G + B + V\n",
    "    colors = {}\n",
    "    colors['R'] = R - G\n",
    "    colors['Y'] = Y - V\n",
    "    colors['B'] = B - O\n",
    "    \n",
    "    #print Y + V, total\n",
    "    \n",
    "    if R + G == total:\n",
    "        return ''.join(construct({'R': R, 'G': G, 'X':0}))\n",
    "    if Y + V == total:\n",
    "        return ''.join(construct({'Y': Y, 'V': V, 'X':0}))\n",
    "    if O + B == total:\n",
    "        return ''.join(construct({'O': O, 'B': B, 'X':0}))\n",
    "        \n",
    "    \n",
    "    if (G and R<=G) or (V and Y<=V) or (B and B <=O) :\n",
    "        return 'IMPOSSIBLE'\n",
    "    \n",
    "    soln = construct(colors)\n",
    "    if soln == 'IMPOSSIBLE':\n",
    "        return 'IMPOSSIBLE'\n",
    "    \n",
    "    soln = ''.join(soln)\n",
    "    soln = soln.replace('R', 'R' + 'GR' * G, 1)\n",
    "    soln = soln.replace('Y', 'Y' + 'VY' * V, 1)\n",
    "    soln = soln.replace('B', 'B' + 'OB' * O, 1)\n",
    "    \n",
    "    return soln\n",
    "    \n",
    "    \n",
    "\n",
    "construct({'R': 2, 'B': 2, 'Y': 0})\n"
   ]
  },
  {
   "cell_type": "code",
   "execution_count": 18,
   "metadata": {
    "collapsed": false
   },
   "outputs": [
    {
     "data": {
      "text/plain": [
       "'RG'"
      ]
     },
     "execution_count": 18,
     "metadata": {},
     "output_type": "execute_result"
    }
   ],
   "source": [
    "'RG' * 1"
   ]
  },
  {
   "cell_type": "code",
   "execution_count": 47,
   "metadata": {
    "collapsed": false
   },
   "outputs": [
    {
     "name": "stdout",
     "output_type": "stream",
     "text": [
      "1\n",
      "2\n",
      "3\n",
      "4\n",
      "5\n",
      "6\n",
      "7\n",
      "8\n",
      "9\n",
      "10\n",
      "11\n",
      "12\n",
      "13\n",
      "14\n",
      "15\n",
      "16\n",
      "17\n",
      "18\n",
      "19\n",
      "20\n",
      "21\n",
      "22\n",
      "23\n",
      "24\n",
      "25\n",
      "26\n",
      "27\n",
      "28\n",
      "29\n",
      "30\n",
      "31\n",
      "32\n",
      "33\n",
      "34\n",
      "35\n",
      "36\n",
      "37\n",
      "38\n",
      "39\n",
      "40\n",
      "41\n",
      "42\n",
      "43\n",
      "44\n",
      "45\n",
      "46\n",
      "47\n",
      "48\n",
      "49\n",
      "50\n",
      "51\n",
      "52\n",
      "53\n",
      "54\n",
      "55\n",
      "56\n",
      "57\n",
      "58\n",
      "59\n",
      "60\n",
      "61\n",
      "62\n",
      "63\n",
      "64\n",
      "65\n",
      "66\n",
      "67\n",
      "68\n",
      "69\n",
      "70\n",
      "71\n",
      "72\n",
      "73\n",
      "74\n",
      "75\n",
      "76\n",
      "77\n",
      "78\n",
      "79\n",
      "80\n",
      "81\n",
      "82\n",
      "83\n",
      "84\n",
      "85\n",
      "86\n",
      "87\n",
      "88\n",
      "89\n",
      "90\n",
      "91\n",
      "92\n",
      "93\n",
      "94\n",
      "95\n",
      "96\n",
      "97\n",
      "98\n",
      "99\n",
      "100\n"
     ]
    }
   ],
   "source": [
    "infile = open('B-large-practice.in')\n",
    "outfile = open('out.txt', 'w')\n",
    "T = int(infile.readline())\n",
    "for t in range(1, T+1):\n",
    "    print t\n",
    "    N, R, O, Y, G, B, V = map(int, infile.readline().split())\n",
    "    soln = solve(R, O, Y, G, B, V)\n",
    "    outfile.write('Case #{}: {}\\n'.format(t, soln))\n",
    "infile.close()\n",
    "outfile.close()"
   ]
  }
 ],
 "metadata": {
  "kernelspec": {
   "display_name": "Python 2",
   "language": "python",
   "name": "python2"
  },
  "language_info": {
   "codemirror_mode": {
    "name": "ipython",
    "version": 2
   },
   "file_extension": ".py",
   "mimetype": "text/x-python",
   "name": "python",
   "nbconvert_exporter": "python",
   "pygments_lexer": "ipython2",
   "version": "2.7.12"
  }
 },
 "nbformat": 4,
 "nbformat_minor": 1
}
