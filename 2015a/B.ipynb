{
 "cells": [
  {
   "cell_type": "code",
   "execution_count": 12,
   "metadata": {
    "collapsed": false
   },
   "outputs": [],
   "source": [
    "from copy import copy\n",
    "def solve(lengths, queries):\n",
    "    prefix = copy(lengths)\n",
    "    for i in range(1, len(prefix)):\n",
    "        prefix[i] *= prefix[i-1]\n",
    "    soln = []\n",
    "    for l, r in queries:\n",
    "        ans = 1.0\n",
    "        for i in range(l, r+1):\n",
    "            ans *= (lengths[i])**(1.0/(r-l+1))\n",
    "        #n = r - l + 1\n",
    "        #volume = prefix[r] / prefix[l] * lengths[l]\n",
    "        soln.append(str(ans))\n",
    "    return soln\n",
    "\n",
    "infile = open('B-large-practice.in')\n",
    "outfile = open('out.txt', 'w')\n",
    "T = int(infile.readline())\n",
    "for t in range(1, T+1):\n",
    "    N, M = map(int, infile.readline().split())\n",
    "    lengths = map(int, infile.readline().split())\n",
    "    queries = [map(int, infile.readline().split()) for _ in range(M)]\n",
    "    outfile.write('Case #{}:\\n{}\\n'.format(t, '\\n'.join(solve(lengths, queries))))\n",
    "\n",
    "infile.close()\n",
    "outfile.close()"
   ]
  }
 ],
 "metadata": {
  "kernelspec": {
   "display_name": "Python 2",
   "language": "python",
   "name": "python2"
  },
  "language_info": {
   "codemirror_mode": {
    "name": "ipython",
    "version": 2
   },
   "file_extension": ".py",
   "mimetype": "text/x-python",
   "name": "python",
   "nbconvert_exporter": "python",
   "pygments_lexer": "ipython2",
   "version": "2.7.12"
  }
 },
 "nbformat": 4,
 "nbformat_minor": 1
}
