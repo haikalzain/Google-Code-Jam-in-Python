{
 "cells": [
  {
   "cell_type": "code",
   "execution_count": 42,
   "metadata": {
    "collapsed": false
   },
   "outputs": [],
   "source": [
    "import sys\n",
    "sys.setrecursionlimit(1000000)\n",
    "INF = 10000000000000000000000000000000\n",
    "best = (INF, INF, INF) # mindiff, coders, jammers \n",
    "\n",
    "def solve(str1, str2):\n",
    "    global best\n",
    "    best = (INF, INF, INF)\n",
    "    N = len(str1)\n",
    "    greedy(list(str1), list(str2), 0)\n",
    "    return best\n",
    "    \n",
    "def greedy(str1, str2, n, status = '='):\n",
    "    if len(str1) == n:\n",
    "        global best\n",
    "        coder = int(''.join(str1))\n",
    "        jammer = int(''.join(str2))\n",
    "        cur = (abs(coder - jammer), coder, jammer, ''.join(str1), ''.join(str2))\n",
    "        best = min(cur, best)\n",
    "        return\n",
    "    \n",
    "    chr1 = str1[n]\n",
    "    chr2 = str2[n]\n",
    "    \n",
    "    if status == '>':\n",
    "        minimize(str1, n)\n",
    "        maximize(str2, n)\n",
    "    elif status == '<':\n",
    "        maximize(str1, n)\n",
    "        minimize(str2, n)\n",
    "    else:\n",
    "        if chr1 != '?' and chr2 != '?':\n",
    "            if int(chr1) > int(chr2):\n",
    "                greedy(str1, str2, n+1, '>')\n",
    "            elif int(chr1) < int(chr2):\n",
    "                greedy(str1, str2, n+1, '<')\n",
    "            else:\n",
    "                greedy(str1, str2, n+1, '=')\n",
    "        elif chr1 == '?' and chr2 == '?':\n",
    "            str1[n], str2[n] = '1', '0'\n",
    "            greedy(str1, str2, n+1, '>')\n",
    "            str1[n], str2[n] = chr1, chr2\n",
    "            str1[n], str2[n] = '0', '1'\n",
    "            greedy(str1, str2, n+1, '<')\n",
    "            str1[n], str2[n] = chr1, chr2\n",
    "            str1[n], str2[n] = '0', '0'\n",
    "            greedy(str1, str2, n+1, '=')\n",
    "            str1[n], str2[n] = chr1, chr2\n",
    "        elif chr1 == '?':\n",
    "            str1[n] = str2[n]\n",
    "            greedy(str1, str2, n+1, '=')\n",
    "            str1[n], str2[n] = chr1, chr2\n",
    "            \n",
    "            if str2[n] != '0':\n",
    "                str1[n] = str(int(str2[n]) - 1)\n",
    "                greedy(str1, str2, n+1, '<')\n",
    "                str1[n], str2[n] = chr1, chr2\n",
    "            \n",
    "            if str2[n] != '9':\n",
    "                str1[n] = str(int(str2[n]) + 1)\n",
    "                greedy(str1, str2, n+1, '>')\n",
    "                str1[n], str2[n] = chr1, chr2\n",
    "        else:\n",
    "            str2[n] = str1[n]\n",
    "            greedy(str1, str2, n+1, '=')\n",
    "            str1[n], str2[n] = chr1, chr2\n",
    "            \n",
    "            if str1[n] != '0':\n",
    "                str2[n] = str(int(str1[n]) - 1)\n",
    "                greedy(str1, str2, n+1, '>')\n",
    "                str1[n], str2[n] = chr1, chr2\n",
    "            \n",
    "            if str1[n] != '9':\n",
    "                str2[n] = str(int(str1[n]) + 1)\n",
    "                greedy(str1, str2, n+1, '<')\n",
    "                str1[n], str2[n] = chr1, chr2\n",
    "        return\n",
    "    \n",
    "    greedy(str1, str2, n+1, status)\n",
    "    str1[n], str2[n] = chr1, chr2\n",
    "\n",
    "def maximize(string, n):\n",
    "    if string[n] == '?':\n",
    "        string[n] = '9'\n",
    "def minimize(string, n):\n",
    "    if string[n] == '?':\n",
    "        string[n] = '0'"
   ]
  },
  {
   "cell_type": "code",
   "execution_count": 43,
   "metadata": {
    "collapsed": false
   },
   "outputs": [
    {
     "name": "stdout",
     "output_type": "stream",
     "text": [
      "Wall time: 37 ms\n"
     ]
    }
   ],
   "source": [
    "%%time\n",
    "infile = open('B-large-practice.in')\n",
    "outfile = open('out.txt', 'w')\n",
    "\n",
    "T = int(infile.readline())\n",
    "for t in range(1, T+1):\n",
    "    str1, str2 = infile.readline().split()\n",
    "    result = solve(str1, str2)\n",
    "    outfile.write('Case #{}: {} {}\\n'.format(t, result[3], result[4]))\n",
    "\n",
    "infile.close()\n",
    "outfile.close()\n"
   ]
  },
  {
   "cell_type": "code",
   "execution_count": 4,
   "metadata": {
    "collapsed": false
   },
   "outputs": [
    {
     "data": {
      "text/plain": [
       "['a', 's', 'b']"
      ]
     },
     "execution_count": 4,
     "metadata": {},
     "output_type": "execute_result"
    }
   ],
   "source": [
    "list('asb')"
   ]
  }
 ],
 "metadata": {
  "kernelspec": {
   "display_name": "Python 2",
   "language": "python",
   "name": "python2"
  },
  "language_info": {
   "codemirror_mode": {
    "name": "ipython",
    "version": 2
   },
   "file_extension": ".py",
   "mimetype": "text/x-python",
   "name": "python",
   "nbconvert_exporter": "python",
   "pygments_lexer": "ipython2",
   "version": "2.7.12"
  }
 },
 "nbformat": 4,
 "nbformat_minor": 1
}
