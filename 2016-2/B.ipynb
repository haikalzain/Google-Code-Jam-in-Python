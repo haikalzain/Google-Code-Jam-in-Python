{
 "cells": [
  {
   "cell_type": "code",
   "execution_count": 16,
   "metadata": {
    "collapsed": false
   },
   "outputs": [],
   "source": [
    "import numpy as np\n",
    "def solve(N, K, probs):\n",
    "    mem = np.zeros((N+1, K+1, 2 * K+1), float)\n",
    "    mem[0, 0, K] = 1 #centred at K\n",
    "    for n, prob in zip(range(1, N+1), probs):\n",
    "        for k in range(0, K+1):\n",
    "            for m in range(0, 2*K+1):\n",
    "                tmp = mem[n-1, k, m]\n",
    "                if k > 0 and m > 0 and m < 2 * K:\n",
    "                    tmp = max(tmp, mem[n-1, k-1, m-1] * prob, mem[n-1, k-1, m+1] * (1-prob))\n",
    "                mem[n, k, m] = tmp\n",
    "                if tmp != 0:\n",
    "                    print n, k, m-K\n",
    "                    print tmp\n",
    "    \n",
    "    return mem[N, K, K]\n",
    "                \n",
    "                "
   ]
  },
  {
   "cell_type": "code",
   "execution_count": 17,
   "metadata": {
    "collapsed": false
   },
   "outputs": [
    {
     "name": "stdout",
     "output_type": "stream",
     "text": [
      "1 0 0\n",
      "1.0\n",
      "1 1 -1\n",
      "0.5\n",
      "1 1 1\n",
      "0.5\n",
      "2 0 0\n",
      "1.0\n",
      "2 1 -1\n",
      "0.5\n",
      "2 1 1\n",
      "0.5\n",
      "2 2 0\n",
      "0.25\n",
      "Case #1: 0.25\n",
      "\n",
      "1 0 0\n",
      "1.0\n",
      "1 1 -1\n",
      "1.0\n",
      "2 0 0\n",
      "1.0\n",
      "2 1 -1\n",
      "1.0\n",
      "3 0 0\n",
      "1.0\n",
      "3 1 -1\n",
      "1.0\n",
      "3 1 1\n",
      "1.0\n",
      "3 2 0\n",
      "1.0\n",
      "4 0 0\n",
      "1.0\n",
      "4 1 -1\n",
      "1.0\n",
      "4 1 1\n",
      "1.0\n",
      "4 2 0\n",
      "1.0\n",
      "Case #2: 1.0\n",
      "\n",
      "1 0 0\n",
      "1.0\n",
      "1 1 -1\n",
      "0.25\n",
      "1 1 1\n",
      "0.75\n",
      "2 0 0\n",
      "1.0\n",
      "2 1 -1\n",
      "0.25\n",
      "2 1 1\n",
      "1.0\n",
      "2 2 0\n",
      "0.25\n",
      "3 0 0\n",
      "1.0\n",
      "3 1 -1\n",
      "0.5\n",
      "3 1 1\n",
      "1.0\n",
      "3 2 0\n",
      "0.5\n",
      "Case #3: 0.5\n",
      "\n"
     ]
    }
   ],
   "source": [
    "infile = open('test.txt')\n",
    "outfile = open('out.txt', 'w')\n",
    "T = int(infile.readline())\n",
    "for t in range(1, T+1):\n",
    "    N, K = map(int, infile.readline().split())\n",
    "    probs = map(float, infile.readline().split())\n",
    "    print('Case #{}: {:.06}\\n'.format(t, solve(N, K, probs)))"
   ]
  }
 ],
 "metadata": {
  "kernelspec": {
   "display_name": "Python 2",
   "language": "python",
   "name": "python2"
  },
  "language_info": {
   "codemirror_mode": {
    "name": "ipython",
    "version": 2
   },
   "file_extension": ".py",
   "mimetype": "text/x-python",
   "name": "python",
   "nbconvert_exporter": "python",
   "pygments_lexer": "ipython2",
   "version": "2.7.12"
  }
 },
 "nbformat": 4,
 "nbformat_minor": 1
}
