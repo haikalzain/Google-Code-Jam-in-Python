{
 "cells": [
  {
   "cell_type": "code",
   "execution_count": null,
   "metadata": {
    "collapsed": false
   },
   "outputs": [],
   "source": [
    "from itertools import *\n",
    "from collections import defaultdict\n",
    "infile = open('D-small-practice.in')\n",
    "outfile = open('out.txt', 'w')\n",
    "T = int(infile.readline())\n",
    "for t in range(1, T+1):\n",
    "    cards = defaultdict(list)\n",
    "    M, N = map(int, infile.readline().split())\n",
    "    for i in range(N):\n",
    "        K, L = map(int, infile.readline().split())\n",
    "        A = map(int, infile.readline().split())[L-1:]\n",
    "        C = map(int, infile.readline().split())[L-1:]\n",
    "        for j in range(1, len(C)):\n",
    "            C[j] += C[j-1]\n",
    "        for a, c in zip(A, [0] + C):\n",
    "            cards[i].append((a, c))\n",
    "    #print cards\n",
    "    best = 0\n",
    "    for selection in product(*[cards[x] for x in range(N)]):\n",
    "        #print selection\n",
    "        attack, cost = 0, 0\n",
    "        for a, c in selection:\n",
    "            attack += a\n",
    "            cost += c\n",
    "        if cost <= M:\n",
    "            best = max(attack, best)\n",
    "            #print selection\n",
    "    \n",
    "    outfile.write('Case #{}: {}\\n'.format(t, best))\n",
    "infile.close()\n",
    "outfile.close()\n",
    "        "
   ]
  },
  {
   "cell_type": "code",
   "execution_count": 9,
   "metadata": {
    "collapsed": false
   },
   "outputs": [
    {
     "data": {
      "text/plain": [
       "[((1, 2), (2, 1)), ((1, 2), (2, 2)), ((1, 3), (2, 1)), ((1, 3), (2, 2))]"
      ]
     },
     "execution_count": 9,
     "metadata": {},
     "output_type": "execute_result"
    }
   ],
   "source": [
    "list(product(*[[(1,2), (1, 3)], [(2, 1), (2, 2)]]))"
   ]
  }
 ],
 "metadata": {
  "kernelspec": {
   "display_name": "Python 2",
   "language": "python",
   "name": "python2"
  },
  "language_info": {
   "codemirror_mode": {
    "name": "ipython",
    "version": 2
   },
   "file_extension": ".py",
   "mimetype": "text/x-python",
   "name": "python",
   "nbconvert_exporter": "python",
   "pygments_lexer": "ipython2",
   "version": "2.7.12"
  }
 },
 "nbformat": 4,
 "nbformat_minor": 1
}
