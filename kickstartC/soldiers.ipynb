{
 "cells": [
  {
   "cell_type": "code",
   "execution_count": 12,
   "metadata": {
    "collapsed": false
   },
   "outputs": [
    {
     "name": "stdout",
     "output_type": "stream",
     "text": [
      "\n"
     ]
    }
   ],
   "source": [
    "from tqdm import tqdm_notebook as tqdm\n",
    "from collections import namedtuple\n",
    "\n",
    "def solve(soldiers):\n",
    "    while soldiers:\n",
    "        maxattack = max([x.attack for x in soldiers])\n",
    "        maxdefence = max([x.defence for x in soldiers])\n",
    "        if Soldier(maxattack, maxdefence) in soldiers:\n",
    "            return \"YES\"\n",
    "        \n",
    "        soldiers = [x for x in soldiers if x.attack != maxattack and x.defence != maxdefence]\n",
    "    \n",
    "    return \"NO\"\n",
    "\n",
    "infile = open('D-large-practice.in')\n",
    "outfile = open('out.txt', 'w')\n",
    "\n",
    "T = int(infile.readline())\n",
    "Soldier = namedtuple('Soldier', ['attack', 'defence'])\n",
    "for t in tqdm(range(1, T+1)):\n",
    "    N = int(infile.readline())\n",
    "    soldiers = []\n",
    "    for n in range(N):\n",
    "        soldiers.append(Soldier(*map(int, infile.readline().split())))\n",
    "    \n",
    "    outfile.write(\"Case #{}: {}\\n\".format(t, solve(soldiers)))\n",
    "infile.close()\n",
    "outfile.close()"
   ]
  },
  {
   "cell_type": "code",
   "execution_count": 6,
   "metadata": {
    "collapsed": false
   },
   "outputs": [
    {
     "data": {
      "text/plain": [
       "False"
      ]
     },
     "execution_count": 6,
     "metadata": {},
     "output_type": "execute_result"
    }
   ],
   "source": [
    "Soldier(10,3) in soldiers"
   ]
  }
 ],
 "metadata": {
  "kernelspec": {
   "display_name": "Python 2",
   "language": "python",
   "name": "python2"
  },
  "language_info": {
   "codemirror_mode": {
    "name": "ipython",
    "version": 2
   },
   "file_extension": ".py",
   "mimetype": "text/x-python",
   "name": "python",
   "nbconvert_exporter": "python",
   "pygments_lexer": "ipython2",
   "version": "2.7.12"
  },
  "widgets": {
   "state": {
    "710f10b332c94b8490dad3ca3d849bb0": {
     "views": [
      {
       "cell_index": 0
      }
     ]
    }
   },
   "version": "1.2.0"
  }
 },
 "nbformat": 4,
 "nbformat_minor": 1
}
