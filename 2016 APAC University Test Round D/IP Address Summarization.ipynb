{
 "cells": [
  {
   "cell_type": "code",
   "execution_count": 10,
   "metadata": {
    "collapsed": false,
    "scrolled": true
   },
   "outputs": [
    {
     "name": "stdout",
     "output_type": "stream",
     "text": [
      "Wall time: 388 ms\n"
     ]
    }
   ],
   "source": [
    "%%time\n",
    "infile = open('C-large-practice.in')\n",
    "outfile = open('out.txt', 'w')\n",
    "T = int(infile.readline())\n",
    "for t in range(1, T+1):\n",
    "    N = int(infile.readline())\n",
    "    addresses = []\n",
    "    for _ in range(N):\n",
    "        addresses.append(infile.readline().strip())\n",
    "    outfile.write('Case #{}:\\n{}\\n'.format(t, '\\n'.join(solve(addresses)))) \n",
    "    \n",
    "infile.close()\n",
    "outfile.close()"
   ]
  },
  {
   "cell_type": "code",
   "execution_count": 9,
   "metadata": {
    "collapsed": false
   },
   "outputs": [
    {
     "data": {
      "text/plain": [
       "'0.0.0.0/0'"
      ]
     },
     "execution_count": 9,
     "metadata": {},
     "output_type": "execute_result"
    }
   ],
   "source": [
    "import numpy as np\n",
    "import heapq\n",
    "\n",
    "def check(soln, subnet):\n",
    "    for i in range(len(subnet)):\n",
    "        if subnet[i:] in soln or \"\" in soln:\n",
    "            return False\n",
    "    return True\n",
    "\n",
    "def solve(addresses):\n",
    "    subnets = [normalize(address) for address in addresses]\n",
    "    subnets.sort(key=lambda x: len(x))\n",
    "    #print subnets\n",
    "    soln = set()\n",
    "    for subnet in subnets:\n",
    "        if check(soln, subnet):\n",
    "            soln.add(subnet)\n",
    "    heap = [(-convert_binary(x[::-1]), x) for x in soln]\n",
    "    heapq.heapify(heap)\n",
    "    soln = []\n",
    "    #print heap\n",
    "    while heap:\n",
    "        x = heapq.heappop(heap)\n",
    "        if heap:\n",
    "            y = heap[0]\n",
    "            if x[0] + 1  == y[0] and len(y[1]) == len(x[1]):\n",
    "                new_x = x[1][1:]\n",
    "                heapq.heapreplace(heap, (-convert_binary(new_x[::-1]), new_x))\n",
    "                continue\n",
    "        soln.append(x[1])\n",
    "        \n",
    "        \n",
    "    \n",
    "    return sorted(map(convert_subnet, soln), key = decompose)\n",
    "\n",
    "def decompose(address):\n",
    "    a, b = address.split('/')\n",
    "    a = a.split('.') + [b]\n",
    "    return map(int, a)\n",
    "        \n",
    "\n",
    "def convert_subnet(num):\n",
    "    prefix = len(num)\n",
    "    address = '{:032b}'.format(convert_binary(num))[::-1]\n",
    "    out = map(lambda x: str(lookup[x]), (address[:8], address[8:16], address[16:24], address[24:]))\n",
    "    return '.'.join(out) + '/' +str(prefix)\n",
    "    \n",
    "\n",
    "def normalize(address):\n",
    "    address, prefix = address.split('/')\n",
    "    address = address.split('.')\n",
    "    if prefix == \"0\":\n",
    "        return \"\"\n",
    "    \n",
    "    x = ['{:08b}'.format(int(x)) for x in address]\n",
    "    x = ''.join(x)[::-1]\n",
    "    #return x\n",
    "    #x = x.lstrip('0')\n",
    "    \n",
    "    return x[-int(prefix):]\n",
    "\n",
    "convert_subnet(normalize('0.0.0.0/0'))\n",
    "#decompose('10.0.0.0/15')"
   ]
  },
  {
   "cell_type": "code",
   "execution_count": 4,
   "metadata": {
    "collapsed": false
   },
   "outputs": [
    {
     "data": {
      "text/plain": [
       "'00000000000000000000000000000100'"
      ]
     },
     "execution_count": 4,
     "metadata": {},
     "output_type": "execute_result"
    }
   ],
   "source": [
    "'{:032b}'.format(4)"
   ]
  },
  {
   "cell_type": "code",
   "execution_count": 5,
   "metadata": {
    "collapsed": false
   },
   "outputs": [],
   "source": [
    "lookup = {}\n",
    "for i in range(256):\n",
    "    binary = '{:08b}'.format(i)\n",
    "    lookup[binary] = i"
   ]
  },
  {
   "cell_type": "code",
   "execution_count": 6,
   "metadata": {
    "collapsed": false
   },
   "outputs": [
    {
     "data": {
      "text/plain": [
       "39"
      ]
     },
     "execution_count": 6,
     "metadata": {},
     "output_type": "execute_result"
    }
   ],
   "source": [
    "def convert_binary(string):\n",
    "    bits = map(int, list(string[::-1]))\n",
    "    total = 0\n",
    "    for index, val in enumerate(bits):\n",
    "        if val:\n",
    "            total += 2 ** index\n",
    "    return total\n",
    "\n",
    "convert_binary('100111')"
   ]
  },
  {
   "cell_type": "code",
   "execution_count": 7,
   "metadata": {
    "collapsed": false
   },
   "outputs": [],
   "source": [
    "import heapq\n",
    "h = [5,3,7,74,2]\n",
    "heapq.heapify(h)\n"
   ]
  },
  {
   "cell_type": "code",
   "execution_count": 8,
   "metadata": {
    "collapsed": false
   },
   "outputs": [
    {
     "data": {
      "text/plain": [
       "[3, 5, 7, 74]"
      ]
     },
     "execution_count": 8,
     "metadata": {},
     "output_type": "execute_result"
    }
   ],
   "source": [
    "heapq.heappop(h)\n",
    "h"
   ]
  },
  {
   "cell_type": "code",
   "execution_count": null,
   "metadata": {
    "collapsed": true
   },
   "outputs": [],
   "source": []
  }
 ],
 "metadata": {
  "kernelspec": {
   "display_name": "Python 2",
   "language": "python",
   "name": "python2"
  },
  "language_info": {
   "codemirror_mode": {
    "name": "ipython",
    "version": 2
   },
   "file_extension": ".py",
   "mimetype": "text/x-python",
   "name": "python",
   "nbconvert_exporter": "python",
   "pygments_lexer": "ipython2",
   "version": "2.7.12"
  }
 },
 "nbformat": 4,
 "nbformat_minor": 1
}
