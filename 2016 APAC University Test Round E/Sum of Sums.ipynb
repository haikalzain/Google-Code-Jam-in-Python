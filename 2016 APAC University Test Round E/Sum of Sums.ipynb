{
 "cells": [
  {
   "cell_type": "code",
   "execution_count": null,
   "metadata": {
    "collapsed": true
   },
   "outputs": [],
   "source": [
    "infile = open('D-small-practice.in')\n",
    "outfile = open('out.txt', 'w')\n",
    "T = int(infile.readline())\n",
    "for t in range(1, T+1):\n",
    "    N, Q = map(int, infile.readline().split())\n",
    "    init = map(int, infile.readline().split())\n",
    "    psum = [0] + np.cumsum(init, dtype='int64')\n",
    "    ppsum = np.cumsum(psum, dtype='int64')\n",
    "    qsum = [ppsum[len(ppsum-1)] - ppsum[i-1] - (n-i+1) * psum[i-1] for i in range(len(ppsum))]\n",
    "    \n",
    "    \n",
    "    outfile.write('Case #{}:\\n'.format(t))\n",
    "    for _ in range(Q):\n",
    "        L, R = map(int, infile.readline().split())\n",
    "        ans = prefix[R] - prefix[L-1]\n",
    "        outfile.write('{}\\n'.format(ans))\n",
    "infile.close()\n",
    "outfile.close()"
   ]
  },
  {
   "cell_type": "code",
   "execution_count": null,
   "metadata": {
    "collapsed": true
   },
   "outputs": [],
   "source": [
    "def sum_range(L , R):\n",
    "    \n",
    "\n",
    "def sums_greater(X):\n",
    "    # gets sums >= X sums_greater(L) - sums_greater(R+1) corner where R == N\n",
    "    \n",
    "    "
   ]
  },
  {
   "cell_type": "code",
   "execution_count": 15,
   "metadata": {
    "collapsed": false
   },
   "outputs": [],
   "source": [
    "infile = open('D-small-practice.in')\n",
    "outfile = open('out1.txt', 'w')\n",
    "T = int(infile.readline())\n",
    "for t in range(1, T+1):\n",
    "    N, Q = map(int, infile.readline().split())\n",
    "    init = map(int, infile.readline().split())\n",
    "    arr = [0] + transform(init)\n",
    "    prefix = np.cumsum(arr, dtype='int64')\n",
    "    outfile.write('Case #{}:\\n'.format(t))\n",
    "    for _ in range(Q):\n",
    "        L, R = map(int, infile.readline().split())\n",
    "        ans = prefix[R] - prefix[L-1]\n",
    "        outfile.write('{}\\n'.format(ans))\n",
    "infile.close()\n",
    "outfile.close()\n",
    "        "
   ]
  },
  {
   "cell_type": "code",
   "execution_count": 14,
   "metadata": {
    "collapsed": false
   },
   "outputs": [
    {
     "data": {
      "text/plain": [
       "[1, 2, 3, 3, 4, 5, 5, 6, 7, 9, 9, 10, 12, 14, 15]"
      ]
     },
     "execution_count": 14,
     "metadata": {},
     "output_type": "execute_result"
    }
   ],
   "source": [
    "import numpy as np\n",
    "def transform(initial):\n",
    "    prefix = np.cumsum(initial, dtype='int64')\n",
    "    x = []\n",
    "    for i in range(0, len(initial)):\n",
    "        for j in range(i, len(initial)):\n",
    "            if i == 0:\n",
    "                x.append(prefix[j])\n",
    "            else:\n",
    "                x.append(prefix[j] - prefix[i-1])\n",
    "    x.sort()\n",
    "    return x\n",
    "\n",
    "transform([5, 4, 3, 2, 1])"
   ]
  }
 ],
 "metadata": {
  "kernelspec": {
   "display_name": "Python 2",
   "language": "python",
   "name": "python2"
  },
  "language_info": {
   "codemirror_mode": {
    "name": "ipython",
    "version": 2
   },
   "file_extension": ".py",
   "mimetype": "text/x-python",
   "name": "python",
   "nbconvert_exporter": "python",
   "pygments_lexer": "ipython2",
   "version": "2.7.12"
  }
 },
 "nbformat": 4,
 "nbformat_minor": 1
}
