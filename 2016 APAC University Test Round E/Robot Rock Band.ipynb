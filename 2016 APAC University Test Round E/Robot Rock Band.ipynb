{
 "cells": [
  {
   "cell_type": "code",
   "execution_count": 7,
   "metadata": {
    "collapsed": false
   },
   "outputs": [],
   "source": [
    "infile = open('B-large-practice.in')\n",
    "outfile = open('out.txt', 'w')\n",
    "T = int(infile.readline())\n",
    "for t in range(1, T+1):\n",
    "    positions = {}\n",
    "    N, K = map(int, infile.readline().split())\n",
    "    for i in range(4):\n",
    "        positions[i] = map(int, infile.readline().split())\n",
    "    \n",
    "    outfile.write('Case #{}: {}\\n'.format(t, solve(K, positions)))\n",
    "\n",
    "infile.close()\n",
    "outfile.close()   "
   ]
  },
  {
   "cell_type": "code",
   "execution_count": 3,
   "metadata": {
    "collapsed": true
   },
   "outputs": [],
   "source": [
    "from collections import defaultdict\n",
    "from itertools import product\n",
    "\n",
    "def populate(A, B):\n",
    "    AB = defaultdict(int)\n",
    "    for x, y in product(A, B):\n",
    "        AB[x^y] += 1\n",
    "    return AB\n",
    "\n",
    "def solve(K, positions):\n",
    "    AB = populate(positions[0], positions[1])\n",
    "    CD = populate(positions[2], positions[3])\n",
    "    total = 0\n",
    "    for key, val in AB.iteritems():\n",
    "        newkey = key ^ K\n",
    "        if newkey in CD:\n",
    "            total += val * CD[newkey]\n",
    "    return total"
   ]
  },
  {
   "cell_type": "code",
   "execution_count": 2,
   "metadata": {
    "collapsed": false
   },
   "outputs": [
    {
     "data": {
      "text/plain": [
       "2"
      ]
     },
     "execution_count": 2,
     "metadata": {},
     "output_type": "execute_result"
    }
   ],
   "source": []
  }
 ],
 "metadata": {
  "kernelspec": {
   "display_name": "Python 2",
   "language": "python",
   "name": "python2"
  },
  "language_info": {
   "codemirror_mode": {
    "name": "ipython",
    "version": 2
   },
   "file_extension": ".py",
   "mimetype": "text/x-python",
   "name": "python",
   "nbconvert_exporter": "python",
   "pygments_lexer": "ipython2",
   "version": "2.7.12"
  }
 },
 "nbformat": 4,
 "nbformat_minor": 1
}
