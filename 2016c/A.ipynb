{
 "cells": [
  {
   "cell_type": "code",
   "execution_count": 20,
   "metadata": {
    "collapsed": true
   },
   "outputs": [],
   "source": [
    "def solve(raw):\n",
    "    letters = [chr(x) for x in range(ord('A'), ord('A') + len(raw))]\n",
    "    parties = zip(raw, letters)\n",
    "    solution = []\n",
    "    while parties:\n",
    "        parties.sort()\n",
    "        \n",
    "        if len(parties) == 2 and parties[-1][0] == parties[-2][0]:\n",
    "            party1 = parties.pop()\n",
    "            party1 = (party1[0]-1, party1[1])\n",
    "            party2 = parties.pop()\n",
    "            party2 = (party2[0]-1, party2[1])\n",
    "            if party2[0] != 0:\n",
    "                parties.append(party2)\n",
    "            if party1[0] != 0:\n",
    "                parties.append(party1)\n",
    "            \n",
    "            solution.append(party1[1] + party2[1])\n",
    "        else:\n",
    "            party1 = parties.pop()\n",
    "            party1 = (party1[0]-1, party1[1])\n",
    "            if party1[0] != 0:\n",
    "                parties.append(party1)\n",
    "            \n",
    "            solution.append(party1[1])\n",
    "            \n",
    "    return solution"
   ]
  },
  {
   "cell_type": "code",
   "execution_count": 25,
   "metadata": {
    "collapsed": false
   },
   "outputs": [],
   "source": [
    "infile = open('A-large-practice.in')\n",
    "outfile = open('out.txt', 'w')\n",
    "\n",
    "T = int(infile.readline())\n",
    "for t in range(1, T+1):\n",
    "    N = int(infile.readline())\n",
    "    raw = map(int, infile.readline().split())\n",
    "    outfile.write('Case #{}: {}\\n'.format(t, ' '.join(solve(raw))))\n",
    "infile.close()\n",
    "outfile.close()"
   ]
  },
  {
   "cell_type": "code",
   "execution_count": 26,
   "metadata": {
    "collapsed": false
   },
   "outputs": [
    {
     "data": {
      "text/plain": [
       "1125899906842624L"
      ]
     },
     "execution_count": 26,
     "metadata": {},
     "output_type": "execute_result"
    }
   ],
   "source": [
    "2**50"
   ]
  },
  {
   "cell_type": "code",
   "execution_count": null,
   "metadata": {
    "collapsed": true
   },
   "outputs": [],
   "source": []
  },
  {
   "cell_type": "code",
   "execution_count": 19,
   "metadata": {
    "collapsed": false
   },
   "outputs": [
    {
     "data": {
      "text/plain": [
       "[1, 1, 1, 1, 1, 1, 1, 1, 1, 1, 1, 1, 1, 1, 1, 1, 1, 1, 1, 1, 1, 1, 1, 1, 1]"
      ]
     },
     "execution_count": 19,
     "metadata": {},
     "output_type": "execute_result"
    }
   ],
   "source": [
    "[1 for _ in range(25)]"
   ]
  }
 ],
 "metadata": {
  "kernelspec": {
   "display_name": "Python 2",
   "language": "python",
   "name": "python2"
  },
  "language_info": {
   "codemirror_mode": {
    "name": "ipython",
    "version": 2
   },
   "file_extension": ".py",
   "mimetype": "text/x-python",
   "name": "python",
   "nbconvert_exporter": "python",
   "pygments_lexer": "ipython2",
   "version": "2.7.12"
  }
 },
 "nbformat": 4,
 "nbformat_minor": 1
}
