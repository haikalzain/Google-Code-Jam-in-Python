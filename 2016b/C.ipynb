{
 "cells": [
  {
   "cell_type": "code",
   "execution_count": 21,
   "metadata": {
    "collapsed": false
   },
   "outputs": [],
   "source": [
    "from itertools import *\n",
    "\n",
    "def works(original, fake):\n",
    "    exists = set(x for tup in original for x in tup)\n",
    "    for f in fake:\n",
    "        if f[0] not in exists or f[1] not in exists:\n",
    "            return False\n",
    "    return True\n",
    "\n",
    "def solve(topics):\n",
    "    N = len(topics)\n",
    "    best = 0\n",
    "    for selection in product([False,True], repeat=N):\n",
    "        original = []\n",
    "        fake = []\n",
    "        for index, item in enumerate(selection):\n",
    "            if item:\n",
    "                original.append(topics[index])\n",
    "            else:\n",
    "                fake.append(topics[index])\n",
    "        if works(original, fake):\n",
    "            best = max(best, len(fake))\n",
    "    return best\n",
    "\n",
    "infile = open('C-small-practice.in')\n",
    "outfile = open('out.txt', 'w')\n",
    "\n",
    "T = int(infile.readline())\n",
    "for t in range(1, T+1):\n",
    "    N = int(infile.readline())\n",
    "    topics = []\n",
    "    for _ in range(N):\n",
    "        x, y = infile.readline().split()\n",
    "        topics.append((x, y.lower()))\n",
    "    outfile.write('Case #{}: {}\\n'.format(t, solve(topics)))\n",
    "\n",
    "infile.close()\n",
    "outfile.close()"
   ]
  },
  {
   "cell_type": "code",
   "execution_count": 15,
   "metadata": {
    "collapsed": false
   },
   "outputs": [
    {
     "data": {
      "text/plain": [
       "['1', '3']"
      ]
     },
     "execution_count": 15,
     "metadata": {},
     "output_type": "execute_result"
    }
   ],
   "source": [
    "list(compress(['1', '2', '3'], [True, False, True]))"
   ]
  }
 ],
 "metadata": {
  "kernelspec": {
   "display_name": "Python 2",
   "language": "python",
   "name": "python2"
  },
  "language_info": {
   "codemirror_mode": {
    "name": "ipython",
    "version": 2
   },
   "file_extension": ".py",
   "mimetype": "text/x-python",
   "name": "python",
   "nbconvert_exporter": "python",
   "pygments_lexer": "ipython2",
   "version": "2.7.12"
  }
 },
 "nbformat": 4,
 "nbformat_minor": 1
}
