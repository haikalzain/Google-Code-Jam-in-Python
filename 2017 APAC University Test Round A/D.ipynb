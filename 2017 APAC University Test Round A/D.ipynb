{
 "cells": [
  {
   "cell_type": "code",
   "execution_count": 24,
   "metadata": {
    "collapsed": false
   },
   "outputs": [
    {
     "name": "stdout",
     "output_type": "stream",
     "text": [
      "1\n",
      "2\n",
      "3\n",
      "4\n",
      "5\n",
      "6\n",
      "7\n",
      "8\n",
      "9\n",
      "10\n",
      "11\n",
      "12\n",
      "13\n",
      "14\n",
      "15\n",
      "16\n",
      "17\n",
      "18\n",
      "19\n",
      "20\n",
      "21\n",
      "22\n",
      "23\n",
      "24\n",
      "25\n",
      "26\n",
      "27\n",
      "28\n",
      "29\n",
      "30\n",
      "31\n",
      "32\n",
      "33\n",
      "34\n",
      "35\n",
      "36\n",
      "37\n",
      "38\n",
      "39\n",
      "40\n",
      "41\n",
      "42\n",
      "43\n",
      "44\n",
      "45\n",
      "46\n",
      "47\n",
      "48\n",
      "49\n",
      "50\n",
      "51\n",
      "52\n",
      "53\n",
      "54\n",
      "55\n",
      "56\n",
      "57\n",
      "58\n",
      "59\n",
      "60\n",
      "61\n",
      "62\n",
      "63\n",
      "64\n",
      "65\n",
      "66\n",
      "67\n",
      "68\n",
      "69\n",
      "70\n",
      "71\n",
      "72\n",
      "73\n",
      "74\n",
      "75\n",
      "76\n",
      "77\n",
      "78\n",
      "79\n",
      "80\n",
      "81\n",
      "82\n",
      "83\n",
      "84\n",
      "85\n",
      "86\n",
      "87\n",
      "88\n",
      "89\n",
      "90\n",
      "91\n",
      "92\n",
      "93\n",
      "94\n",
      "95\n",
      "96\n",
      "97\n",
      "98\n",
      "99\n",
      "100\n"
     ]
    }
   ],
   "source": [
    "from itertools import *\n",
    "import numpy as np\n",
    "from collections import defaultdict\n",
    "#infile = open('test.txt')\n",
    "infile = open('D-small-practice.in')\n",
    "outfile = open('out.txt', 'w')\n",
    "T = int(infile.readline())\n",
    "for t in range(1, T+1):\n",
    "    print t\n",
    "    cards = defaultdict(list)\n",
    "    M, N = map(int, infile.readline().split())\n",
    "    for i in range(N):\n",
    "        K, L = map(int, infile.readline().split())\n",
    "        A = map(int, infile.readline().split())[L-1:]\n",
    "        C = map(int, infile.readline().split())[L-1:]\n",
    "        for j in range(1, len(C)):\n",
    "            C[j] += C[j-1]\n",
    "        for a, c in zip(A, [0] + C):\n",
    "            cards[i].append((a, c))\n",
    "    \n",
    "    dp = np.zeros((N+1, M+1), int)\n",
    "    for n in range(N-1, -1, -1):\n",
    "        for m in range(0, M+1):\n",
    "            for a, c in cards[n]:\n",
    "                if m >= c:\n",
    "                    dp[n, m] = max(dp[n, m], a + dp[n+1, m-c])\n",
    "    \n",
    "                    \n",
    "    \n",
    "    \n",
    "    outfile.write('Case #{}: {}\\n'.format(t, dp[0, M]))\n",
    "infile.close()\n",
    "outfile.close()\n",
    "        "
   ]
  },
  {
   "cell_type": "code",
   "execution_count": 9,
   "metadata": {
    "collapsed": false
   },
   "outputs": [
    {
     "data": {
      "text/plain": [
       "[((1, 2), (2, 1)), ((1, 2), (2, 2)), ((1, 3), (2, 1)), ((1, 3), (2, 2))]"
      ]
     },
     "execution_count": 9,
     "metadata": {},
     "output_type": "execute_result"
    }
   ],
   "source": [
    "list(product(*[[(1,2), (1, 3)], [(2, 1), (2, 2)]]))"
   ]
  },
  {
   "cell_type": "code",
   "execution_count": 40,
   "metadata": {
    "collapsed": false
   },
   "outputs": [],
   "source": [
    "from random import randint\n",
    "\n",
    "def create_sequence():\n",
    "    return [0] + [randint(1, 100000000) for _ in range(9)]\n",
    "costs = [create_sequence() for x in range(8)]"
   ]
  },
  {
   "cell_type": "code",
   "execution_count": 41,
   "metadata": {
    "collapsed": false
   },
   "outputs": [],
   "source": [
    "values = set()\n",
    "values.add(1000000000)\n",
    "for i in range(len(costs)):\n",
    "    new_values = set()\n",
    "    for v in values:\n",
    "        for cost in costs[i]:\n",
    "            if cost <= v:\n",
    "                new_values.add(v - cost)\n",
    "    values = new_values\n"
   ]
  },
  {
   "cell_type": "code",
   "execution_count": 42,
   "metadata": {
    "collapsed": false
   },
   "outputs": [
    {
     "data": {
      "text/plain": [
       "85434460"
      ]
     },
     "execution_count": 42,
     "metadata": {},
     "output_type": "execute_result"
    }
   ],
   "source": [
    "len(values)"
   ]
  }
 ],
 "metadata": {
  "kernelspec": {
   "display_name": "Python 2",
   "language": "python",
   "name": "python2"
  },
  "language_info": {
   "codemirror_mode": {
    "name": "ipython",
    "version": 2
   },
   "file_extension": ".py",
   "mimetype": "text/x-python",
   "name": "python",
   "nbconvert_exporter": "python",
   "pygments_lexer": "ipython2",
   "version": "2.7.12"
  }
 },
 "nbformat": 4,
 "nbformat_minor": 1
}
