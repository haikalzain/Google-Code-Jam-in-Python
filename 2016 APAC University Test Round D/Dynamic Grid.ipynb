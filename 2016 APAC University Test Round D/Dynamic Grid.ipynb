{
 "cells": [
  {
   "cell_type": "code",
   "execution_count": 19,
   "metadata": {
    "collapsed": false
   },
   "outputs": [
    {
     "name": "stdout",
     "output_type": "stream",
     "text": [
      "Wall time: 24 s\n"
     ]
    }
   ],
   "source": [
    "%%time\n",
    "import numpy as np\n",
    "import sys\n",
    "sys.setrecursionlimit(1000000000)\n",
    "import itertools\n",
    "\n",
    "def solve(R, C, grid):\n",
    "    vis = np.zeros((R, C), bool)\n",
    "    \n",
    "    def dfs(r, c):\n",
    "        vis[r, c] = True\n",
    "        for newr, newc in zip((r+1, r-1, r, r), (c, c, c+1, c-1)):\n",
    "            if R > newr >= 0 and C > newc >= 0 and not vis[newr, newc] and grid[newr, newc]:\n",
    "                dfs(newr, newc)\n",
    "        \n",
    "    \n",
    "    cnt = 0\n",
    "    \n",
    "    for (r, c), val in np.ndenumerate(grid):\n",
    "        if val and not vis[r,c]:\n",
    "            cnt += 1\n",
    "            dfs(r, c)\n",
    "    return cnt\n",
    "\n",
    "infile = open('A-large-practice.in')\n",
    "outfile = open('out.txt', 'w')\n",
    "T = int(infile.readline())\n",
    "for t in range(1, T+1):\n",
    "    outfile.write('Case #{}:\\n'.format(t))\n",
    "    R, C = map(int, infile.readline().split())\n",
    "    grid = np.zeros((R, C), bool)\n",
    "    for i in range(R):\n",
    "        grid[i] = map(int, list(infile.readline().strip()))\n",
    "    N = int(infile.readline())\n",
    "    for _ in range(N):\n",
    "        raw_query = infile.readline().split()[1:]\n",
    "        if not raw_query:\n",
    "            outfile.write('{}\\n'.format(solve(R, C, grid)))\n",
    "        else:\n",
    "            x, y, z = map(int, raw_query)\n",
    "            grid[x, y] = z\n",
    "\n",
    "infile.close()\n",
    "outfile.close()"
   ]
  }
 ],
 "metadata": {
  "kernelspec": {
   "display_name": "Python 2",
   "language": "python",
   "name": "python2"
  },
  "language_info": {
   "codemirror_mode": {
    "name": "ipython",
    "version": 2
   },
   "file_extension": ".py",
   "mimetype": "text/x-python",
   "name": "python",
   "nbconvert_exporter": "python",
   "pygments_lexer": "ipython2",
   "version": "2.7.12"
  }
 },
 "nbformat": 4,
 "nbformat_minor": 1
}
