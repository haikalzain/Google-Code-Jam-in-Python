{
 "cells": [
  {
   "cell_type": "code",
   "execution_count": 87,
   "metadata": {
    "collapsed": false
   },
   "outputs": [],
   "source": [
    "infile = open('C-large-practice.in')\n",
    "outfile = open('out.txt', 'w')\n",
    "T = int(infile.readline())\n",
    "for t in range(1, T+1):\n",
    "    N, X, K, A, B, C = map(int, infile.readline().split())\n",
    "    A /= 100.0\n",
    "    B /= 100.0\n",
    "    C /= 100.0\n",
    "    \n",
    "    curdict = {X:1.0}\n",
    "    for _ in xrange(N):\n",
    "        curdict = produce(K, A, B, C, curdict)\n",
    "        #print curdict\n",
    "    ans = sum(k * v for k, v in curdict.iteritems())\n",
    "    outfile.write('Case #{}: {}\\n'.format(t, ans))\n",
    "infile.close()\n",
    "outfile.close()"
   ]
  },
  {
   "cell_type": "code",
   "execution_count": 81,
   "metadata": {
    "collapsed": false
   },
   "outputs": [],
   "source": [
    "from collections import defaultdict\n",
    "def produce(K, A, B, C, indict):\n",
    "    outdict = defaultdict(float)\n",
    "    for key, val in indict.iteritems():\n",
    "        outdict[key&K] += val * A\n",
    "        outdict[key|K] += val * B\n",
    "        outdict[key^K] += val * C\n",
    "    return outdict\n",
    "\n",
    "\n",
    "def produce2(K, inset):\n",
    "    outset = set()\n",
    "    for x in inset:\n",
    "        outset.add(K & x)\n",
    "        outset.add(K|x)\n",
    "        outset.add(K^x)\n",
    "    return outset\n",
    "\n",
    "        "
   ]
  },
  {
   "cell_type": "code",
   "execution_count": 54,
   "metadata": {
    "collapsed": true
   },
   "outputs": [],
   "source": [
    "outset = [4353543453432453]\n",
    "K = 134213433453452"
   ]
  },
  {
   "cell_type": "code",
   "execution_count": 74,
   "metadata": {
    "collapsed": false
   },
   "outputs": [
    {
     "name": "stdout",
     "output_type": "stream",
     "text": [
      "set([0L, 125344325978756L, 4228199127453697L, 4353543453432453L, 4362412560907149L, 8869107474696L, 134213433453452L])\n"
     ]
    }
   ],
   "source": [
    "outset = produce(K, outset)\n",
    "print outset"
   ]
  }
 ],
 "metadata": {
  "kernelspec": {
   "display_name": "Python 2",
   "language": "python",
   "name": "python2"
  },
  "language_info": {
   "codemirror_mode": {
    "name": "ipython",
    "version": 2
   },
   "file_extension": ".py",
   "mimetype": "text/x-python",
   "name": "python",
   "nbconvert_exporter": "python",
   "pygments_lexer": "ipython2",
   "version": "2.7.12"
  }
 },
 "nbformat": 4,
 "nbformat_minor": 1
}
