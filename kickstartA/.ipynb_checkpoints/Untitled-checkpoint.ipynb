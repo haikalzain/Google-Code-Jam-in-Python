{
 "cells": [
  {
   "cell_type": "code",
   "execution_count": 51,
   "metadata": {
    "collapsed": false
   },
   "outputs": [
    {
     "name": "stdout",
     "output_type": "stream",
     "text": [
      "Wall time: 13 ms\n"
     ]
    }
   ],
   "source": [
    "%%time\n",
    "from math import factorial\n",
    "import numpy as np\n",
    "\n",
    "infile = open('A-small-practice.in')\n",
    "outfile = open('out.txt', 'w')\n",
    "\n",
    "T = int(infile.readline())\n",
    "for t in range(1, T+1):\n",
    "    N, M = map(int, infile.readline().split())\n",
    "    dp = np.zeros((N+2, M+2))\n",
    "    for i in range(0, N+1):\n",
    "        for j in range(0, M+1):\n",
    "            if i == N and j == M:\n",
    "                break\n",
    "            if i==1 and j==0:\n",
    "                dp[i][j] = N * 1.0 / (N + M)\n",
    "            if i >= j + 1:\n",
    "                ratio = (N - i) * 1.0 / ( (N-i) + (M-j) )\n",
    "                dp[i+1][j] += dp[i][j] * ratio\n",
    "            if i > j + 1:\n",
    "                ratio = (M-j) * 1.0 / ( (N-i) + (M-j) )\n",
    "                dp[i][j+1] += dp[i][j] * ratio\n",
    "    \n",
    "    #total = factorial(M+N)/factorial(M)/factorial(N)\n",
    "    outfile.write(\"Case #{}: {}\\n\".format(t, dp[N][M]))\n",
    "\n",
    "\n",
    "infile.close()\n",
    "outfile.close()\n",
    "\n",
    "\n",
    "#factorial(2000) / factorial(1000)/factorial(1000)"
   ]
  },
  {
   "cell_type": "code",
   "execution_count": 22,
   "metadata": {
    "collapsed": false
   },
   "outputs": [],
   "source": [
    "x = np.zeros((4,4), dtype=int)"
   ]
  },
  {
   "cell_type": "code",
   "execution_count": 23,
   "metadata": {
    "collapsed": false
   },
   "outputs": [
    {
     "data": {
      "text/plain": [
       "0"
      ]
     },
     "execution_count": 23,
     "metadata": {},
     "output_type": "execute_result"
    }
   ],
   "source": [
    "x[0][3]"
   ]
  }
 ],
 "metadata": {
  "kernelspec": {
   "display_name": "Python 2",
   "language": "python",
   "name": "python2"
  },
  "language_info": {
   "codemirror_mode": {
    "name": "ipython",
    "version": 2
   },
   "file_extension": ".py",
   "mimetype": "text/x-python",
   "name": "python",
   "nbconvert_exporter": "python",
   "pygments_lexer": "ipython2",
   "version": "2.7.12"
  }
 },
 "nbformat": 4,
 "nbformat_minor": 1
}
