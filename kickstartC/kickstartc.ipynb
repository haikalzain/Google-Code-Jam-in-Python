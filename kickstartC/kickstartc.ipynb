{
 "cells": [
  {
   "cell_type": "code",
   "execution_count": 37,
   "metadata": {
    "collapsed": false
   },
   "outputs": [],
   "source": [
    "from collections import defaultdict\n",
    "import sys\n",
    "sys.setrecursionlimit(100000)\n",
    "\n",
    "infile = open('C-large-practice.in')\n",
    "#infile = open('test.txt')\n",
    "outfile = open('out.txt', 'w')\n",
    "\n",
    "\n",
    "def is_defined(val):\n",
    "    if defined[val] or visited[val]:\n",
    "        return defined[val]\n",
    "    \n",
    "    visited[val] = True\n",
    "    if graph[val]:\n",
    "        defined[val] = all([is_defined(newval) for newval in graph[val]])\n",
    "    else:\n",
    "        defined[val] = False\n",
    "    \n",
    "    return defined[val]\n",
    "\n",
    "T = int(infile.readline())\n",
    "for t in range(1, T+1):\n",
    "    visited = defaultdict(bool)\n",
    "    defined = defaultdict(bool)\n",
    "    graph = defaultdict(set)\n",
    "    vals = set()\n",
    "    \n",
    "    N = int(infile.readline())\n",
    "    for _ in range(N):\n",
    "        raw = infile.readline().strip()\n",
    "        #print raw\n",
    "        ass, raw = raw.split('=')\n",
    "        _, raw = raw.split('(')\n",
    "        variables = raw[:-1]\n",
    "        vals.add(ass)\n",
    "        \n",
    "        if variables:\n",
    "            for variable in variables.split(','):\n",
    "                graph[ass].add(variable)\n",
    "                vals.add(variable)\n",
    "        else:\n",
    "            defined[ass] = True\n",
    "        \n",
    "        #print ass, variables, defined[ass]\n",
    "    \n",
    "    result = all([is_defined(val) for val in vals])\n",
    "    \n",
    "    outfile.write(\"Case #{}: {}\\n\".format(t, \"GOOD\" if result else \"BAD\"))\n",
    "\n",
    "infile.close()\n",
    "outfile.close()"
   ]
  },
  {
   "cell_type": "code",
   "execution_count": 30,
   "metadata": {
    "collapsed": false
   },
   "outputs": [
    {
     "data": {
      "text/plain": [
       "True"
      ]
     },
     "execution_count": 30,
     "metadata": {},
     "output_type": "execute_result"
    }
   ],
   "source": [
    "all([])"
   ]
  }
 ],
 "metadata": {
  "kernelspec": {
   "display_name": "Python 2",
   "language": "python",
   "name": "python2"
  },
  "language_info": {
   "codemirror_mode": {
    "name": "ipython",
    "version": 2
   },
   "file_extension": ".py",
   "mimetype": "text/x-python",
   "name": "python",
   "nbconvert_exporter": "python",
   "pygments_lexer": "ipython2",
   "version": "2.7.12"
  }
 },
 "nbformat": 4,
 "nbformat_minor": 1
}
