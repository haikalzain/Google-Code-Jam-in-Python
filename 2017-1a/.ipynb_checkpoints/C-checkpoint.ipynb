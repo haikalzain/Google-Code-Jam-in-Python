{
 "cells": [
  {
   "cell_type": "code",
   "execution_count": 22,
   "metadata": {
    "collapsed": false
   },
   "outputs": [],
   "source": [
    "from collections import *\n",
    "import sys\n",
    "sys.setrecursionlimit(100000000)\n",
    "import numpy as np\n",
    "\n",
    "\n",
    "def solve(Hd, Ad, Hk, Ak, B, D):\n",
    "    mem = {}\n",
    "    INF = 1000000000 #change for large\n",
    "    #print 'hey'\n",
    "    \n",
    "    def dp(d_health, d_attack, k_attack, k_health):\n",
    "        if k_health <= 0:\n",
    "            return 0\n",
    "        if d_health <= 0:\n",
    "            return INF\n",
    "        if (d_health, d_attack, k_attack, k_health) in mem:\n",
    "            return mem[d_health, d_attack, k_attack, k_health]\n",
    "        \n",
    "        result = 1 + dp(d_health - k_attack, d_attack, k_attack, k_health - d_attack)\n",
    "        if d_health != Hd - k_attack:\n",
    "            result = min(result, 1 + dp(Hd - k_attack, d_attack, k_attack, k_health))\n",
    "        if B!=0 and d_attack < k_health:\n",
    "            result = min(result, 1 + dp(d_health - k_attack, min(d_attack + B, k_health), k_attack, k_health))\n",
    "        if D!=0 and k_attack > 0:\n",
    "            result = min(result, 1 + dp(d_health - k_attack, d_attack, max(0, k_attack - D), k_health))\n",
    "        \n",
    "        mem[d_health, d_attack, k_attack, k_health] = result \n",
    "        return result\n",
    "    \n",
    "    soln = dp(Hd, Ad, Ak, Hk)\n",
    "    if soln >= INF:\n",
    "        return 'IMPOSSIBLE'\n",
    "    return soln"
   ]
  },
  {
   "cell_type": "code",
   "execution_count": null,
   "metadata": {
    "collapsed": false
   },
   "outputs": [],
   "source": [
    "#from tqdm import tqdm_notebook\n",
    "infile = open('C-small-attempt1.in')\n",
    "outfile = open('out.txt', 'w')\n",
    "T = int(infile.readline())\n",
    "for t in range(1, T+1):\n",
    "    print t\n",
    "    Hd, Ad, Hk, Ak, B, D = map(int, infile.readline().split())\n",
    "    #print Hd, Ad, Hk, Ak, B, D\n",
    "    outfile.write('Case #{}: {}\\n'.format(t, solve(Hd, Ad, Hk, Ak, B, D)))\n",
    "\n",
    "infile.close()\n",
    "outfile.close()"
   ]
  }
 ],
 "metadata": {
  "kernelspec": {
   "display_name": "Python 2",
   "language": "python",
   "name": "python2"
  },
  "language_info": {
   "codemirror_mode": {
    "name": "ipython",
    "version": 2
   },
   "file_extension": ".py",
   "mimetype": "text/x-python",
   "name": "python",
   "nbconvert_exporter": "python",
   "pygments_lexer": "ipython2",
   "version": "2.7.12"
  }
 },
 "nbformat": 4,
 "nbformat_minor": 1
}
