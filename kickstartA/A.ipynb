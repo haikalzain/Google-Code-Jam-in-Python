{
 "cells": [
  {
   "cell_type": "code",
   "execution_count": 29,
   "metadata": {
    "collapsed": true
   },
   "outputs": [],
   "source": [
    "%load_ext cython"
   ]
  },
  {
   "cell_type": "code",
   "execution_count": 28,
   "metadata": {
    "collapsed": false
   },
   "outputs": [
    {
     "name": "stdout",
     "output_type": "stream",
     "text": [
      "Wall time: 2 ms\n"
     ]
    }
   ],
   "source": [
    "%%time\n",
    "infile = open('A-large-practice.in')\n",
    "outfile = open('out.txt', 'w')\n",
    "T = int(infile.readline().strip())\n",
    "for t in range(1, T+1):\n",
    "    R, C = map(int, infile.readline().split())\n",
    "    total = 0\n",
    "    r, c = R-1, C-1\n",
    "    k = min(r, c)\n",
    "    total = k**2 * (k+1)**2/4 - (r+c+2)*k*(k+1)*(2*k+1)/6 + (r+1)*(c+1)*k*(k+1)/2\n",
    "    MOD = 1000000007\n",
    "    outfile.write('Case #{}: {}\\n'.format(t, total % MOD))\n",
    "infile.close()\n",
    "outfile.close()"
   ]
  },
  {
   "cell_type": "code",
   "execution_count": 83,
   "metadata": {
    "collapsed": false
   },
   "outputs": [
    {
     "ename": "KeyboardInterrupt",
     "evalue": "",
     "output_type": "error",
     "traceback": [
      "\u001b[1;31m---------------------------------------------------------------------------\u001b[0m",
      "\u001b[1;31mKeyboardInterrupt\u001b[0m                         Traceback (most recent call last)",
      "\u001b[1;32m<ipython-input-83-daf10d5824eb>\u001b[0m in \u001b[0;36m<module>\u001b[1;34m()\u001b[0m\n\u001b[1;32m----> 1\u001b[1;33m \u001b[0mget_ipython\u001b[0m\u001b[1;33m(\u001b[0m\u001b[1;33m)\u001b[0m\u001b[1;33m.\u001b[0m\u001b[0mrun_cell_magic\u001b[0m\u001b[1;33m(\u001b[0m\u001b[1;34mu'time'\u001b[0m\u001b[1;33m,\u001b[0m \u001b[1;34mu''\u001b[0m\u001b[1;33m,\u001b[0m \u001b[1;34mu\"from collections import defaultdict\\n\\ncache = {}\\ninfile = open('B-large-practice.in')\\noutfile = open('out.txt', 'w')\\nT = int(infile.readline().strip())\\nfor t in range(1, T+1):\\n    pattern1 = infile.readline().strip().replace('*', '####') + '.'\\n    pattern2 = infile.readline().strip().replace('*', '####') + '.'\\n    \\n    dp = defaultdict(bool)\\n    for a in reversed(xrange(len(pattern1))):\\n        for b in reversed(xrange(len(pattern2))):\\n            if a == len(pattern1)-1 and b == len(pattern2)-1:\\n                dp[(a,b)] = True\\n            elif pattern1[a] == '#' or pattern2[b] == '#':\\n                if pattern1[a] == '#':\\n                    dp[(a,b)] = dp[(a,b)] or dp[(a+1, b)] or dp[(a+1, b+1)]\\n                if pattern2[b] == '#':\\n                    dp[(a,b)] = dp[(a,b)] or dp[(a, b+1)] or dp[(a+1, b+1)]\\n            elif pattern1[a] == pattern2[b]:\\n                dp[(a,b)] = dp[(a+1, b+1)]\\n            else:\\n                dp[(a,b)] = False\\n    #print('Case #{}: {}\\\\n'.format(t, str(dp[(0,0)]).upper()))\\n    outfile.write('Case #{}: {}\\\\n'.format(t, str(dp[(0,0)]).upper()))\\n\\ninfile.close()\\noutfile.close()\\n                \\n    \"\u001b[0m\u001b[1;33m)\u001b[0m\u001b[1;33m\u001b[0m\u001b[0m\n\u001b[0m",
      "\u001b[1;32mC:\\IntelPython27\\lib\\site-packages\\IPython\\core\\interactiveshell.pyc\u001b[0m in \u001b[0;36mrun_cell_magic\u001b[1;34m(self, magic_name, line, cell)\u001b[0m\n\u001b[0;32m   2118\u001b[0m             \u001b[0mmagic_arg_s\u001b[0m \u001b[1;33m=\u001b[0m \u001b[0mself\u001b[0m\u001b[1;33m.\u001b[0m\u001b[0mvar_expand\u001b[0m\u001b[1;33m(\u001b[0m\u001b[0mline\u001b[0m\u001b[1;33m,\u001b[0m \u001b[0mstack_depth\u001b[0m\u001b[1;33m)\u001b[0m\u001b[1;33m\u001b[0m\u001b[0m\n\u001b[0;32m   2119\u001b[0m             \u001b[1;32mwith\u001b[0m \u001b[0mself\u001b[0m\u001b[1;33m.\u001b[0m\u001b[0mbuiltin_trap\u001b[0m\u001b[1;33m:\u001b[0m\u001b[1;33m\u001b[0m\u001b[0m\n\u001b[1;32m-> 2120\u001b[1;33m                 \u001b[0mresult\u001b[0m \u001b[1;33m=\u001b[0m \u001b[0mfn\u001b[0m\u001b[1;33m(\u001b[0m\u001b[0mmagic_arg_s\u001b[0m\u001b[1;33m,\u001b[0m \u001b[0mcell\u001b[0m\u001b[1;33m)\u001b[0m\u001b[1;33m\u001b[0m\u001b[0m\n\u001b[0m\u001b[0;32m   2121\u001b[0m             \u001b[1;32mreturn\u001b[0m \u001b[0mresult\u001b[0m\u001b[1;33m\u001b[0m\u001b[0m\n\u001b[0;32m   2122\u001b[0m \u001b[1;33m\u001b[0m\u001b[0m\n",
      "\u001b[1;32m<decorator-gen-61>\u001b[0m in \u001b[0;36mtime\u001b[1;34m(self, line, cell, local_ns)\u001b[0m\n",
      "\u001b[1;32mC:\\IntelPython27\\lib\\site-packages\\IPython\\core\\magic.pyc\u001b[0m in \u001b[0;36m<lambda>\u001b[1;34m(f, *a, **k)\u001b[0m\n\u001b[0;32m    191\u001b[0m     \u001b[1;31m# but it's overkill for just that one bit of state.\u001b[0m\u001b[1;33m\u001b[0m\u001b[1;33m\u001b[0m\u001b[0m\n\u001b[0;32m    192\u001b[0m     \u001b[1;32mdef\u001b[0m \u001b[0mmagic_deco\u001b[0m\u001b[1;33m(\u001b[0m\u001b[0marg\u001b[0m\u001b[1;33m)\u001b[0m\u001b[1;33m:\u001b[0m\u001b[1;33m\u001b[0m\u001b[0m\n\u001b[1;32m--> 193\u001b[1;33m         \u001b[0mcall\u001b[0m \u001b[1;33m=\u001b[0m \u001b[1;32mlambda\u001b[0m \u001b[0mf\u001b[0m\u001b[1;33m,\u001b[0m \u001b[1;33m*\u001b[0m\u001b[0ma\u001b[0m\u001b[1;33m,\u001b[0m \u001b[1;33m**\u001b[0m\u001b[0mk\u001b[0m\u001b[1;33m:\u001b[0m \u001b[0mf\u001b[0m\u001b[1;33m(\u001b[0m\u001b[1;33m*\u001b[0m\u001b[0ma\u001b[0m\u001b[1;33m,\u001b[0m \u001b[1;33m**\u001b[0m\u001b[0mk\u001b[0m\u001b[1;33m)\u001b[0m\u001b[1;33m\u001b[0m\u001b[0m\n\u001b[0m\u001b[0;32m    194\u001b[0m \u001b[1;33m\u001b[0m\u001b[0m\n\u001b[0;32m    195\u001b[0m         \u001b[1;32mif\u001b[0m \u001b[0mcallable\u001b[0m\u001b[1;33m(\u001b[0m\u001b[0marg\u001b[0m\u001b[1;33m)\u001b[0m\u001b[1;33m:\u001b[0m\u001b[1;33m\u001b[0m\u001b[0m\n",
      "\u001b[1;32mC:\\IntelPython27\\lib\\site-packages\\IPython\\core\\magics\\execution.pyc\u001b[0m in \u001b[0;36mtime\u001b[1;34m(self, line, cell, local_ns)\u001b[0m\n\u001b[0;32m   1175\u001b[0m         \u001b[1;32melse\u001b[0m\u001b[1;33m:\u001b[0m\u001b[1;33m\u001b[0m\u001b[0m\n\u001b[0;32m   1176\u001b[0m             \u001b[0mst\u001b[0m \u001b[1;33m=\u001b[0m \u001b[0mclock2\u001b[0m\u001b[1;33m(\u001b[0m\u001b[1;33m)\u001b[0m\u001b[1;33m\u001b[0m\u001b[0m\n\u001b[1;32m-> 1177\u001b[1;33m             \u001b[1;32mexec\u001b[0m\u001b[1;33m(\u001b[0m\u001b[0mcode\u001b[0m\u001b[1;33m,\u001b[0m \u001b[0mglob\u001b[0m\u001b[1;33m,\u001b[0m \u001b[0mlocal_ns\u001b[0m\u001b[1;33m)\u001b[0m\u001b[1;33m\u001b[0m\u001b[0m\n\u001b[0m\u001b[0;32m   1178\u001b[0m             \u001b[0mend\u001b[0m \u001b[1;33m=\u001b[0m \u001b[0mclock2\u001b[0m\u001b[1;33m(\u001b[0m\u001b[1;33m)\u001b[0m\u001b[1;33m\u001b[0m\u001b[0m\n\u001b[0;32m   1179\u001b[0m             \u001b[0mout\u001b[0m \u001b[1;33m=\u001b[0m \u001b[0mNone\u001b[0m\u001b[1;33m\u001b[0m\u001b[0m\n",
      "\u001b[1;32m<timed exec>\u001b[0m in \u001b[0;36m<module>\u001b[1;34m()\u001b[0m\n",
      "\u001b[1;31mKeyboardInterrupt\u001b[0m: "
     ]
    }
   ],
   "source": [
    "%%time\n",
    "from collections import defaultdict\n",
    "\n",
    "cache = {}\n",
    "infile = open('B-large-practice.in')\n",
    "outfile = open('out.txt', 'w')\n",
    "T = int(infile.readline().strip())\n",
    "for t in range(1, T+1):\n",
    "    pattern1 = infile.readline().strip().replace('*', '####') + '.'\n",
    "    pattern2 = infile.readline().strip().replace('*', '####') + '.'\n",
    "    \n",
    "    dp = defaultdict(bool)\n",
    "    for a in reversed(xrange(len(pattern1))):\n",
    "        for b in reversed(xrange(len(pattern2))):\n",
    "            if a == len(pattern1)-1 and b == len(pattern2)-1:\n",
    "                dp[(a,b)] = True\n",
    "            elif pattern1[a] == '#' or pattern2[b] == '#':\n",
    "                if pattern1[a] == '#':\n",
    "                    dp[(a,b)] = dp[(a,b)] or dp[(a+1, b)] or dp[(a+1, b+1)]\n",
    "                if pattern2[b] == '#':\n",
    "                    dp[(a,b)] = dp[(a,b)] or dp[(a, b+1)] or dp[(a+1, b+1)]\n",
    "            elif pattern1[a] == pattern2[b]:\n",
    "                dp[(a,b)] = dp[(a+1, b+1)]\n",
    "            else:\n",
    "                dp[(a,b)] = False\n",
    "    #print('Case #{}: {}\\n'.format(t, str(dp[(0,0)]).upper()))\n",
    "    outfile.write('Case #{}: {}\\n'.format(t, str(dp[(0,0)]).upper()))\n",
    "\n",
    "infile.close()\n",
    "outfile.close()\n",
    "                \n",
    "    "
   ]
  },
  {
   "cell_type": "code",
   "execution_count": 56,
   "metadata": {
    "collapsed": false
   },
   "outputs": [
    {
     "data": {
      "text/plain": [
       "defaultdict(bool,\n",
       "            {(0, 0): True,\n",
       "             (0, 1): True,\n",
       "             (0, 2): True,\n",
       "             (1, 0): True,\n",
       "             (1, 1): True,\n",
       "             (1, 2): True,\n",
       "             (2, 0): True,\n",
       "             (2, 1): True,\n",
       "             (2, 2): True,\n",
       "             (3, 0): True,\n",
       "             (3, 1): True,\n",
       "             (3, 2): True,\n",
       "             (4, 0): True,\n",
       "             (4, 1): True,\n",
       "             (4, 2): True,\n",
       "             (5, 0): True,\n",
       "             (5, 1): True,\n",
       "             (5, 2): True,\n",
       "             (6, 0): True,\n",
       "             (6, 1): True,\n",
       "             (6, 2): True,\n",
       "             (7, 0): True,\n",
       "             (7, 1): True,\n",
       "             (7, 2): True,\n",
       "             (8, 0): True,\n",
       "             (8, 1): True,\n",
       "             (8, 2): True,\n",
       "             (9, 0): True,\n",
       "             (9, 1): True,\n",
       "             (9, 2): True,\n",
       "             (10, 0): True,\n",
       "             (10, 1): True,\n",
       "             (10, 2): True,\n",
       "             (11, 0): True,\n",
       "             (11, 1): True,\n",
       "             (11, 2): True,\n",
       "             (12, 0): True,\n",
       "             (12, 1): True,\n",
       "             (12, 2): True,\n",
       "             (13, 0): True,\n",
       "             (13, 1): True,\n",
       "             (13, 2): True,\n",
       "             (14, 0): True,\n",
       "             (14, 1): True,\n",
       "             (14, 2): True,\n",
       "             (15, 0): False,\n",
       "             (15, 1): True,\n",
       "             (15, 2): True,\n",
       "             (16, 0): False,\n",
       "             (16, 1): False,\n",
       "             (16, 2): True})"
      ]
     },
     "execution_count": 56,
     "metadata": {},
     "output_type": "execute_result"
    }
   ],
   "source": [
    "dp"
   ]
  },
  {
   "cell_type": "code",
   "execution_count": 37,
   "metadata": {
    "collapsed": false
   },
   "outputs": [
    {
     "ename": "IndexError",
     "evalue": "list index out of range",
     "output_type": "error",
     "traceback": [
      "\u001b[1;31m---------------------------------------------------------------------------\u001b[0m",
      "\u001b[1;31mIndexError\u001b[0m                                Traceback (most recent call last)",
      "\u001b[1;32m<ipython-input-37-ed224ad0520d>\u001b[0m in \u001b[0;36m<module>\u001b[1;34m()\u001b[0m\n\u001b[1;32m----> 1\u001b[1;33m \u001b[0mx\u001b[0m\u001b[1;33m[\u001b[0m\u001b[1;36m3\u001b[0m\u001b[1;33m]\u001b[0m\u001b[1;33m\u001b[0m\u001b[0m\n\u001b[0m",
      "\u001b[1;31mIndexError\u001b[0m: list index out of range"
     ]
    }
   ],
   "source": []
  }
 ],
 "metadata": {
  "kernelspec": {
   "display_name": "Python 2",
   "language": "python",
   "name": "python2"
  },
  "language_info": {
   "codemirror_mode": {
    "name": "ipython",
    "version": 2
   },
   "file_extension": ".py",
   "mimetype": "text/x-python",
   "name": "python",
   "nbconvert_exporter": "python",
   "pygments_lexer": "ipython2",
   "version": "2.7.12"
  }
 },
 "nbformat": 4,
 "nbformat_minor": 1
}
