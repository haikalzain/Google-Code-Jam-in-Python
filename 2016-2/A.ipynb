{
 "cells": [
  {
   "cell_type": "code",
   "execution_count": 19,
   "metadata": {
    "collapsed": false
   },
   "outputs": [],
   "source": [
    "from collections import *\n",
    "def best(N, move):\n",
    "    if N == 0:\n",
    "        return move\n",
    "    if move == 'R':\n",
    "        p1 = best(N-1, 'R')\n",
    "        p2 = best(N-1, 'S')\n",
    "        return min(p1, p2) + max(p1, p2)\n",
    "    if move == 'S':\n",
    "        p1 = best(N-1, 'P')\n",
    "        p2 = best(N-1, 'S')\n",
    "        return min(p1, p2) + max(p1, p2)\n",
    "    if move == 'P':\n",
    "        p1 = best(N-1, 'P')\n",
    "        p2 = best(N-1, 'R')\n",
    "        return min(p1, p2) + max(p1, p2)\n",
    "\n",
    "def valid(R, P, S, string):\n",
    "    count = Counter(string)\n",
    "    return R == count['R'] and P == count['P'] and S == count['S']\n",
    "\n",
    "\n",
    "def solve(N, R, P, S):\n",
    "    options = [best(N, 'R'), best(N, 'P'), best(N, 'S')]\n",
    "    soln = [lineup for lineup in options if valid(R, P, S, lineup)]\n",
    "    if soln:\n",
    "        return min(soln)\n",
    "    else:\n",
    "        return 'IMPOSSIBLE'"
   ]
  },
  {
   "cell_type": "code",
   "execution_count": 23,
   "metadata": {
    "collapsed": true
   },
   "outputs": [],
   "source": [
    "infile = open('A-large-practice.in')\n",
    "outfile = open('out.txt', 'w')\n",
    "T = int(infile.readline())\n",
    "for t in range(1 , T+1):\n",
    "    N, R, P, S = map(int, infile.readline().split())\n",
    "    soln = solve(N, R, P, S)\n",
    "    outfile.write('Case #{}: {}\\n'.format(t, soln))\n",
    "infile.close()\n",
    "outfile.close()"
   ]
  },
  {
   "cell_type": "code",
   "execution_count": 18,
   "metadata": {
    "collapsed": false
   },
   "outputs": [
    {
     "data": {
      "text/plain": [
       "1"
      ]
     },
     "execution_count": 18,
     "metadata": {},
     "output_type": "execute_result"
    }
   ],
   "source": [
    "min([1])"
   ]
  }
 ],
 "metadata": {
  "kernelspec": {
   "display_name": "Python 2",
   "language": "python",
   "name": "python2"
  },
  "language_info": {
   "codemirror_mode": {
    "name": "ipython",
    "version": 2
   },
   "file_extension": ".py",
   "mimetype": "text/x-python",
   "name": "python",
   "nbconvert_exporter": "python",
   "pygments_lexer": "ipython2",
   "version": "2.7.12"
  }
 },
 "nbformat": 4,
 "nbformat_minor": 1
}
