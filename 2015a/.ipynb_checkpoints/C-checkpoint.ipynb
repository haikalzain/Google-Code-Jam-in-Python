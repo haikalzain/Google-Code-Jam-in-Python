{
 "cells": [
  {
   "cell_type": "code",
   "execution_count": 22,
   "metadata": {
    "collapsed": false
   },
   "outputs": [],
   "source": [
    "import numpy as np\n",
    "from collections import *\n",
    "INF = 100000000000\n",
    "\n",
    "infile = open('test.txt')\n",
    "outfile = open('out.txt', 'w')\n",
    "T = int(infile.readline())\n",
    "for t in range(1, T+1):\n",
    "    N, M = map(int, infile.readline().split())\n",
    "    dist = np.full((N, N), INF)\n",
    "    for i in range(N):\n",
    "        dist[i][i] = 0\n",
    "    edges = []\n",
    "    for _ in range(M):\n",
    "        U, V, C = map(int, infile.readline().split())\n",
    "        edges.append((U, V, C))\n",
    "        dist[U][V] = min(dist[U][V], C)\n",
    "        dist[V][U] = dist[U][V]\n",
    "    soln = solve(N, edges, dist)\n",
    "    #print soln\n",
    "    outfile.write('Case #{}:\\n{}\\n'.format(t, '\\n'.join(map(str, soln))))\n",
    "infile.close()\n",
    "outfile.close()"
   ]
  },
  {
   "cell_type": "code",
   "execution_count": 20,
   "metadata": {
    "collapsed": true
   },
   "outputs": [],
   "source": [
    "def solve(N, edges, dist):\n",
    "    for k in range(N):\n",
    "        for i in range(N):\n",
    "            for j in range(N):\n",
    "                dist[i][j] = min(dist[i][j], dist[i][k] + dist[k][j])\n",
    "    \n",
    "    soln = []\n",
    "    for i, (U, V, C) in enumerate(edges):\n",
    "        if dist[U][V] < C:\n",
    "            soln.append(i)\n",
    "    \n",
    "    return soln"
   ]
  },
  {
   "cell_type": "code",
   "execution_count": 11,
   "metadata": {
    "collapsed": false
   },
   "outputs": [
    {
     "data": {
      "text/plain": [
       "'1\\n2'"
      ]
     },
     "execution_count": 11,
     "metadata": {},
     "output_type": "execute_result"
    }
   ],
   "source": [
    "'\\n'.join(map(str, [1,2]))"
   ]
  }
 ],
 "metadata": {
  "kernelspec": {
   "display_name": "Python 2",
   "language": "python",
   "name": "python2"
  },
  "language_info": {
   "codemirror_mode": {
    "name": "ipython",
    "version": 2
   },
   "file_extension": ".py",
   "mimetype": "text/x-python",
   "name": "python",
   "nbconvert_exporter": "python",
   "pygments_lexer": "ipython2",
   "version": "2.7.12"
  }
 },
 "nbformat": 4,
 "nbformat_minor": 1
}
