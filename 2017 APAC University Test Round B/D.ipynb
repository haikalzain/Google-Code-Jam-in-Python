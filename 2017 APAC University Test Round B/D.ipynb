{
 "cells": [
  {
   "cell_type": "code",
   "execution_count": 40,
   "metadata": {
    "collapsed": false
   },
   "outputs": [
    {
     "name": "stdout",
     "output_type": "stream",
     "text": [
      "1 1 1\n",
      "2 1 1\n",
      "2 2 1\n",
      "3 1 2\n",
      "3 2 2\n",
      "3 3 1\n"
     ]
    }
   ],
   "source": [
    "infile = open('test.txt')\n",
    "outfile = open('out.txt', 'w')\n",
    "T = int(infile.readline())\n",
    "for t in range(1, T+1):\n",
    "    N, M = map(int, infile.readline().split())\n",
    "    outfile.write('Case #{}: {}\\n'.format(t, solve(N, M)))\n",
    "infile.close()\n",
    "outfile.close()"
   ]
  },
  {
   "cell_type": "code",
   "execution_count": 39,
   "metadata": {
    "collapsed": false
   },
   "outputs": [
    {
     "data": {
      "text/plain": [
       "2"
      ]
     },
     "execution_count": 39,
     "metadata": {},
     "output_type": "execute_result"
    }
   ],
   "source": [
    "from math import factorial\n",
    "from toolz.functoolz import memoize\n",
    "import sys\n",
    "sys.setrecursionlimit(100000000)\n",
    "\n",
    "#@memoize\n",
    "def dp(n, chunks):\n",
    "    if n == 0 or chunks == 0:\n",
    "        if n==0 and chunks ==0:\n",
    "            return 1\n",
    "        else:\n",
    "            return 0\n",
    "    \n",
    "    total = 0\n",
    "    for i in range(1, n+1):\n",
    "        ways = dp(n - i, chunks - 1) * factorial(i-1) % M\n",
    "        total += ways\n",
    "    return total\n",
    "\n",
    "def permute(n, p):\n",
    "    return factorial(n) / factorial(n - p)\n",
    "\n",
    "def solve(N, M):\n",
    "    total = 0\n",
    "    for i in range(1, N+1):\n",
    "        print N, i, dp(N, i)\n",
    "        total += dp(N, i) * i ** 2\n",
    "        #total %= M\n",
    "    return total\n",
    "\n",
    "#M = 100000000\n",
    "dp(3, 1)"
   ]
  }
 ],
 "metadata": {
  "kernelspec": {
   "display_name": "Python 2",
   "language": "python",
   "name": "python2"
  },
  "language_info": {
   "codemirror_mode": {
    "name": "ipython",
    "version": 2
   },
   "file_extension": ".py",
   "mimetype": "text/x-python",
   "name": "python",
   "nbconvert_exporter": "python",
   "pygments_lexer": "ipython2",
   "version": "2.7.12"
  }
 },
 "nbformat": 4,
 "nbformat_minor": 1
}
