{
 "cells": [
  {
   "cell_type": "code",
   "execution_count": 48,
   "metadata": {
    "collapsed": false
   },
   "outputs": [],
   "source": [
    "infile = open('B-large-practice.in')\n",
    "outfile = open('out.txt', 'w')\n",
    "T = int(infile.readline())\n",
    "for t in range(1, T+1):\n",
    "    tasks = []\n",
    "    C, J = map(int, infile.readline().split())\n",
    "    for _ in range(C):\n",
    "        start, end = map(int, infile.readline().split())\n",
    "        tasks.append((start, end, 'C'))\n",
    "    for _ in range(J):\n",
    "        start, end = map(int, infile.readline().split())\n",
    "        tasks.append((start, end, 'J'))\n",
    "    tasks.sort()\n",
    "    #print tasks\n",
    "    outfile.write('Case #{}: {}\\n'.format(t, solve(tasks)))\n",
    "infile.close()\n",
    "outfile.close()\n",
    "    "
   ]
  },
  {
   "cell_type": "code",
   "execution_count": 47,
   "metadata": {
    "collapsed": false
   },
   "outputs": [],
   "source": [
    "from collections import defaultdict\n",
    "def solve(tasks):\n",
    "    intervals = get_intervals(tasks)\n",
    "    changes = count_changes(intervals)\n",
    "    roster = sum_time(tasks, intervals)\n",
    "    #print 'roster', roster\n",
    "    if roster['C'] > 720:\n",
    "        X, Y = 'C', 'J'\n",
    "        deficit = roster['C'] - 720\n",
    "    elif roster['J'] > 720:\n",
    "        X, Y = 'J', 'C'\n",
    "        deficit = roster['J'] - 720\n",
    "    else:\n",
    "        return changes\n",
    "    for interval in intervals:\n",
    "        if interval[2] == X * 2:\n",
    "            changes += 2\n",
    "            deficit -= interval[0]\n",
    "        if deficit <= 0:\n",
    "            break\n",
    "    \n",
    "    return changes\n",
    "        \n",
    "    \n",
    "    \n",
    "\n",
    "def get_intervals(tasks):\n",
    "    intervals = []\n",
    "    for i in range(1, len(tasks)):\n",
    "        task1 = tasks[i-1]\n",
    "        task2 = tasks[i]\n",
    "        intervals.append((task2[0]-task1[1], task1[1], ''.join(sorted(task1[2]+task2[2]))))\n",
    "    \n",
    "    task1 = tasks[-1]\n",
    "    task2 = tasks[0]\n",
    "    intervals.append((task2[0] + 1440 - task1[1], task1[1], ''.join(sorted(task1[2]+task2[2]))))\n",
    "    intervals.sort(key = lambda x: -x[0])\n",
    "    return intervals\n",
    "\n",
    "def sum_time(tasks, intervals):\n",
    "    result = defaultdict(int)\n",
    "    for task in tasks:\n",
    "        result[task[2]] += task[1] - task[0]\n",
    "    for interval in intervals:\n",
    "        if interval[2] != 'CJ':\n",
    "            result[interval[2][0]] += interval[0]\n",
    "    return result\n",
    "\n",
    "def count_changes(intervals):\n",
    "    cnt = 0\n",
    "    for interval in intervals:\n",
    "        if interval[2] == 'CJ':\n",
    "            cnt += 1\n",
    "    return cnt"
   ]
  },
  {
   "cell_type": "code",
   "execution_count": 46,
   "metadata": {
    "collapsed": false
   },
   "outputs": [
    {
     "name": "stdout",
     "output_type": "stream",
     "text": [
      "[(719, 100, 'CC'), (1, 1439, 'CC')]\n"
     ]
    },
    {
     "data": {
      "text/plain": [
       "4"
      ]
     },
     "execution_count": 46,
     "metadata": {},
     "output_type": "execute_result"
    }
   ],
   "source": [
    "solve([(0, 100, 'C'),(819, 1439, 'C')])"
   ]
  }
 ],
 "metadata": {
  "kernelspec": {
   "display_name": "Python 2",
   "language": "python",
   "name": "python2"
  },
  "language_info": {
   "codemirror_mode": {
    "name": "ipython",
    "version": 2
   },
   "file_extension": ".py",
   "mimetype": "text/x-python",
   "name": "python",
   "nbconvert_exporter": "python",
   "pygments_lexer": "ipython2",
   "version": "2.7.12"
  }
 },
 "nbformat": 4,
 "nbformat_minor": 1
}
