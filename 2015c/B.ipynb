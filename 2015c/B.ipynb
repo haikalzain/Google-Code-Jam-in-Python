{
 "cells": [
  {
   "cell_type": "code",
   "execution_count": 15,
   "metadata": {
    "collapsed": false
   },
   "outputs": [],
   "source": [
    "INF = 1000000000000000000\n",
    "def get_range(percent, files):\n",
    "    if percent == 100:\n",
    "        return files, files\n",
    "    if percent == 0 and files == 0:\n",
    "        return 0, INF\n",
    "    if percent == 0:\n",
    "        max_files = INF\n",
    "    else:\n",
    "        max_files = files * 100 / percent\n",
    "    min_files = files * 100 / (percent + 1) + 1\n",
    "    return min_files, max_files\n",
    "\n",
    "def merge_range(range1, range2):\n",
    "    return max(range1[0], range2[0]), min(range1[1], range2[1])\n",
    "\n",
    "infile = open('B-large-practice.in')\n",
    "outfile = open('out.txt', 'w')\n",
    "T = int(infile.readline())\n",
    "for t in range(1, T+1):\n",
    "    N = int(infile.readline())\n",
    "    cur_range = 0, INF\n",
    "    for _ in range(N):\n",
    "        percent, files = map(int, infile.readline().split())\n",
    "        new_range = get_range(percent, files)\n",
    "        cur_range = merge_range(cur_range, new_range)\n",
    "    \n",
    "    if cur_range[0] == cur_range[1]:\n",
    "        ans = cur_range[0]\n",
    "    else:\n",
    "        ans = -1\n",
    "    outfile.write('Case #{}: {}\\n'.format(t, ans))\n",
    "infile.close()\n",
    "outfile.close()"
   ]
  }
 ],
 "metadata": {
  "kernelspec": {
   "display_name": "Python 2",
   "language": "python",
   "name": "python2"
  },
  "language_info": {
   "codemirror_mode": {
    "name": "ipython",
    "version": 2
   },
   "file_extension": ".py",
   "mimetype": "text/x-python",
   "name": "python",
   "nbconvert_exporter": "python",
   "pygments_lexer": "ipython2",
   "version": "2.7.12"
  }
 },
 "nbformat": 4,
 "nbformat_minor": 1
}
