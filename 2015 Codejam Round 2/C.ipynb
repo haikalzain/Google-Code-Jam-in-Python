{
 "cells": [
  {
   "cell_type": "code",
   "execution_count": 78,
   "metadata": {
    "collapsed": false
   },
   "outputs": [],
   "source": [
    "from itertools import *\n",
    "import numpy as np\n",
    "def permute(r, c):\n",
    "    for perm in product(*[range(1,4) for _ in range(r*c)]):\n",
    "        perm = list(perm)\n",
    "        grid = np.zeros((r, c), int)\n",
    "        for i in range(r):\n",
    "            grid[i,:] = perm[i*c:(i+1)*c]\n",
    "        if check(grid):\n",
    "            yield grid\n",
    "        \n",
    "def check(grid):\n",
    "    R, C = grid.shape\n",
    "    for index, val in np.ndenumerate(grid):\n",
    "        r, c = index\n",
    "        cnt = 0\n",
    "        if r > 0 and grid[r-1,c] == val:\n",
    "            cnt += 1\n",
    "        if grid[r,(c+1)%C] == val:\n",
    "            cnt += 1\n",
    "        if r < R-1 and grid[r+1,c] == val:\n",
    "            cnt += 1\n",
    "        if grid[r,c-1] == val:\n",
    "            cnt += 1\n",
    "        if cnt != val:\n",
    "            return False\n",
    "    return True\n"
   ]
  },
  {
   "cell_type": "code",
   "execution_count": 90,
   "metadata": {
    "collapsed": false
   },
   "outputs": [],
   "source": [
    "valid = list(permute(2,6))"
   ]
  },
  {
   "cell_type": "code",
   "execution_count": 88,
   "metadata": {
    "collapsed": false
   },
   "outputs": [
    {
     "data": {
      "text/plain": [
       "[array([[1, 1, 2, 2, 2, 2],\n",
       "        [2, 2, 2, 1, 1, 2]]), array([[1, 2, 2, 1, 2, 2],\n",
       "        [1, 2, 2, 1, 2, 2]]), array([[1, 2, 2, 2, 2, 1],\n",
       "        [2, 2, 1, 1, 2, 2]]), array([[2, 1, 1, 2, 2, 2],\n",
       "        [2, 2, 2, 2, 1, 1]]), array([[2, 1, 2, 2, 1, 2],\n",
       "        [2, 1, 2, 2, 1, 2]]), array([[2, 2, 1, 1, 2, 2],\n",
       "        [1, 2, 2, 2, 2, 1]]), array([[2, 2, 1, 2, 2, 1],\n",
       "        [2, 2, 1, 2, 2, 1]]), array([[2, 2, 2, 1, 1, 2],\n",
       "        [1, 1, 2, 2, 2, 2]]), array([[2, 2, 2, 2, 1, 1],\n",
       "        [2, 1, 1, 2, 2, 2]]), array([[3, 3, 3, 3, 3, 3],\n",
       "        [3, 3, 3, 3, 3, 3]])]"
      ]
     },
     "execution_count": 88,
     "metadata": {},
     "output_type": "execute_result"
    }
   ],
   "source": [
    "len(valid)"
   ]
  },
  {
   "cell_type": "code",
   "execution_count": 46,
   "metadata": {
    "collapsed": false
   },
   "outputs": [],
   "source": [
    "it = product([range(1,4) for _ in range(5)])"
   ]
  },
  {
   "cell_type": "code",
   "execution_count": 73,
   "metadata": {
    "collapsed": false
   },
   "outputs": [
    {
     "ename": "NameError",
     "evalue": "name 'valid' is not defined",
     "output_type": "error",
     "traceback": [
      "\u001b[1;31m---------------------------------------------------------------------------\u001b[0m",
      "\u001b[1;31mNameError\u001b[0m                                 Traceback (most recent call last)",
      "\u001b[1;32m<ipython-input-73-c03230617dbc>\u001b[0m in \u001b[0;36m<module>\u001b[1;34m()\u001b[0m\n\u001b[1;32m----> 1\u001b[1;33m \u001b[0mlen\u001b[0m\u001b[1;33m(\u001b[0m\u001b[0mvalid\u001b[0m\u001b[1;33m)\u001b[0m\u001b[1;33m\u001b[0m\u001b[0m\n\u001b[0m",
      "\u001b[1;31mNameError\u001b[0m: name 'valid' is not defined"
     ]
    }
   ],
   "source": [
    "len(valid)"
   ]
  }
 ],
 "metadata": {
  "kernelspec": {
   "display_name": "Python 2",
   "language": "python",
   "name": "python2"
  },
  "language_info": {
   "codemirror_mode": {
    "name": "ipython",
    "version": 2
   },
   "file_extension": ".py",
   "mimetype": "text/x-python",
   "name": "python",
   "nbconvert_exporter": "python",
   "pygments_lexer": "ipython2",
   "version": "2.7.12"
  }
 },
 "nbformat": 4,
 "nbformat_minor": 1
}
