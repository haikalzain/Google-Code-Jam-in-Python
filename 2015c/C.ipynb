{
 "cells": [
  {
   "cell_type": "code",
   "execution_count": 41,
   "metadata": {
    "collapsed": false
   },
   "outputs": [],
   "source": [
    "from collections import *\n",
    "import numpy as np\n",
    "from itertools import *\n",
    "infile = open('C-large-practice.in')\n",
    "outfile = open('out.txt', 'w')\n",
    "T = int(infile.readline())\n",
    "\n",
    "def solve(N, bad):\n",
    "    for perm in permutations(range(1, N+1)):\n",
    "        if check(perm):\n",
    "            return 'YES'\n",
    "    \n",
    "    return 'NO'\n",
    "        \n",
    "                    \n",
    "def check(perm):\n",
    "    for position1, elf1 in enumerate(perm):\n",
    "        for position2, elf2 in enumerate(perm):\n",
    "            if position1 == position2:\n",
    "                continue\n",
    "            K = bad[elf1, elf2]\n",
    "            \n",
    "            group1 = position1 / (2** K)\n",
    "            group2 = position2/ (2**K)\n",
    "            if group1 == group2:\n",
    "                return False\n",
    "    return True\n",
    "\n",
    "\n",
    "for t in range(1, T+1):\n",
    "    \n",
    "    N, M = map(int, infile.readline().split())\n",
    "    N = 2**N\n",
    "    bad = np.zeros((N+1, N+1), int)\n",
    "    for _ in range(M):\n",
    "        E, K, B = map(int, infile.readline().split())\n",
    "        elves = map(int, infile.readline().split())\n",
    "        for elf in elves:\n",
    "            bad[E, elf] = max(bad[E,elf], K)\n",
    "            bad[elf,E] = bad[E,elf]\n",
    "        \n",
    "    outfile.write('Case #{}: {}\\n'.format(t, solve2(N, bad)))\n",
    "    \n",
    "    \n",
    "infile.close()\n",
    "outfile.close()\n",
    "    \n",
    "    "
   ]
  },
  {
   "cell_type": "code",
   "execution_count": 38,
   "metadata": {
    "collapsed": false
   },
   "outputs": [],
   "source": [
    "lookup = {16:4, 8:3, 4:2, 2:1}\n",
    "\n",
    "def solve2(N, bad):\n",
    "    mem = {}\n",
    "    \n",
    "    def test(set1, set2, level):\n",
    "        for i,j in product(set1, set2):\n",
    "            if bad[i, j] >= level:\n",
    "                return False\n",
    "        return True\n",
    "    \n",
    "    def dp(selected, level):\n",
    "        if selected in mem:\n",
    "            return mem[selected]\n",
    "        X = len(selected)\n",
    "        if X == 1:\n",
    "            mem[selected]=True\n",
    "            return True\n",
    "\n",
    "        for combination in combinations(selected, X/2):\n",
    "            set1 = combination\n",
    "            set2 = tuple(sorted(tuple(set(selected) - set(set1))))\n",
    "            if dp(set1, level-1) and dp(set2, level-1):\n",
    "                if test(set1, set2, level):\n",
    "                    mem[selected] = True\n",
    "                    return True\n",
    "        mem[selected] = False\n",
    "        return False   \n",
    "    \n",
    "    if dp(tuple(range(1, N+1)), lookup[N]):\n",
    "        return 'YES'\n",
    "    else:\n",
    "        return 'NO'\n",
    "\n",
    "\n"
   ]
  },
  {
   "cell_type": "code",
   "execution_count": 25,
   "metadata": {
    "collapsed": false
   },
   "outputs": [
    {
     "data": {
      "text/plain": [
       "(2, 3)"
      ]
     },
     "execution_count": 25,
     "metadata": {},
     "output_type": "execute_result"
    }
   ],
   "source": [
    "tuple(set([1,2,3]) - set([1]))"
   ]
  },
  {
   "cell_type": "code",
   "execution_count": 27,
   "metadata": {
    "collapsed": false
   },
   "outputs": [
    {
     "data": {
      "text/plain": [
       "[1, 2]"
      ]
     },
     "execution_count": 27,
     "metadata": {},
     "output_type": "execute_result"
    }
   ],
   "source": [
    "sorted((2,1))"
   ]
  }
 ],
 "metadata": {
  "kernelspec": {
   "display_name": "Python 2",
   "language": "python",
   "name": "python2"
  },
  "language_info": {
   "codemirror_mode": {
    "name": "ipython",
    "version": 2
   },
   "file_extension": ".py",
   "mimetype": "text/x-python",
   "name": "python",
   "nbconvert_exporter": "python",
   "pygments_lexer": "ipython2",
   "version": "2.7.12"
  }
 },
 "nbformat": 4,
 "nbformat_minor": 1
}
