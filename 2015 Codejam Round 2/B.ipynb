{
 "cells": [
  {
   "cell_type": "code",
   "execution_count": 67,
   "metadata": {
    "collapsed": false
   },
   "outputs": [
    {
     "name": "stdout",
     "output_type": "stream",
     "text": [
      "[[2000, 500000]]\n",
      "Case #1: 50.0\n",
      "\n",
      "[[1, 500000], [1000000, 999000]]\n",
      "-2233519\n",
      "0.0 after\n",
      "999999.552276\n",
      "999999.552276 after\n",
      "Case #2: IMPOSSIBLE\n",
      "\n",
      "[[300000, 998999], [200000, 997000]]\n",
      "400300000\n",
      "300000 after\n",
      "200000\n",
      "200000 after\n",
      "Case #3: IMPOSSIBLE\n",
      "\n",
      "[[1, 973911], [1, 571751]]\n",
      "Case #4: 0.5\n",
      "\n",
      "[[700263, 756127], [270364, 277990]]\n",
      "270364\n",
      "270364 after\n",
      "Case #5: 1.42803489546\n",
      "\n",
      "[[100000, 300000], [200000, 500000], [3000000, 950000], [400000, 20000]]\n",
      "-291781\n",
      "0.0 after\n",
      "-473333.333333\n",
      "0.0 after\n",
      "-852000.0\n",
      "0.0 after\n",
      "1065000.0\n",
      "1065000.0 after\n",
      "Case #6: 18.9753320683\n",
      "\n"
     ]
    }
   ],
   "source": [
    "infile = open('test.txt')\n",
    "outfile = open('out.txt', 'w')\n",
    "T = int(infile.readline())\n",
    "def floaty(string):\n",
    "    p1, p2 = string.split('.')\n",
    "    p2 += '0' * (4 - len(p2))\n",
    "    return int(p1) * 10000 + int(p2)\n",
    "for t in range(1, T+1):\n",
    "    raw = infile.readline().split()\n",
    "    N, V, X = int(raw[0]), float(raw[1])*10000, floaty(raw[2])\n",
    "    taps = [map(floaty, infile.readline().split()) for _ in range(N)]\n",
    "    print taps\n",
    "    print('Case #{}: {}\\n'.format(t, solve(taps, V, X)))\n",
    "infile.close()\n",
    "outfile.close()"
   ]
  },
  {
   "cell_type": "code",
   "execution_count": 60,
   "metadata": {
    "collapsed": false
   },
   "outputs": [],
   "source": [
    "import numpy as np\n",
    "def solve(taps, V, X):\n",
    "    taps.sort(key=lambda x: x[1])\n",
    "    total_rate = sum([tap[0] for tap in taps])\n",
    "    total_energy = sum([tap[0] * tap[1] for tap in taps])\n",
    "    \n",
    "    if X * total_rate > total_energy:\n",
    "        taps.reverse()\n",
    "    \n",
    "    #print X, total_temperature, total_rate\n",
    "    #print taps\n",
    "    \n",
    "    for tap in taps:\n",
    "        if total_energy == X*total_rate:\n",
    "            return V/total_rate\n",
    "        if tap[1] == X:\n",
    "            continue\n",
    "        Rx = (total_energy - total_rate*X) / (tap[1] - X)\n",
    "        print Rx\n",
    "        Rx = max(min(Rx, tap[0]),0)\n",
    "        print Rx, 'after'\n",
    "        if total_rate == Rx:\n",
    "            return 'IMPOSSIBLE'\n",
    "        total_energy -= Rx * tap[1]\n",
    "        total_rate -= Rx\n",
    "    \n",
    "    if total_energy == X*total_rate:\n",
    "            return V/total_rate\n",
    "    \n",
    "    return 'IMPOSSIBLE'\n",
    "        "
   ]
  }
 ],
 "metadata": {
  "kernelspec": {
   "display_name": "Python 2",
   "language": "python",
   "name": "python2"
  },
  "language_info": {
   "codemirror_mode": {
    "name": "ipython",
    "version": 2
   },
   "file_extension": ".py",
   "mimetype": "text/x-python",
   "name": "python",
   "nbconvert_exporter": "python",
   "pygments_lexer": "ipython2",
   "version": "2.7.12"
  }
 },
 "nbformat": 4,
 "nbformat_minor": 1
}
