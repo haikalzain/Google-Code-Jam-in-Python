{
 "cells": [
  {
   "cell_type": "code",
   "execution_count": 29,
   "metadata": {
    "collapsed": true
   },
   "outputs": [],
   "source": [
    "%load_ext cython"
   ]
  },
  {
   "cell_type": "code",
   "execution_count": 28,
   "metadata": {
    "collapsed": false
   },
   "outputs": [
    {
     "name": "stdout",
     "output_type": "stream",
     "text": [
      "Wall time: 2 ms\n"
     ]
    }
   ],
   "source": [
    "%%time\n",
    "infile = open('A-large-practice.in')\n",
    "outfile = open('out.txt', 'w')\n",
    "T = int(infile.readline().strip())\n",
    "for t in range(1, T+1):\n",
    "    R, C = map(int, infile.readline().split())\n",
    "    total = 0\n",
    "    r, c = R-1, C-1\n",
    "    k = min(r, c)\n",
    "    total = k**2 * (k+1)**2/4 - (r+c+2)*k*(k+1)*(2*k+1)/6 + (r+1)*(c+1)*k*(k+1)/2\n",
    "    MOD = 1000000007\n",
    "    outfile.write('Case #{}: {}\\n'.format(t, total % MOD))\n",
    "infile.close()\n",
    "outfile.close()"
   ]
  },
  {
   "cell_type": "code",
   "execution_count": 76,
   "metadata": {
    "collapsed": false
   },
   "outputs": [
    {
     "name": "stdout",
     "output_type": "stream",
     "text": [
      "Case #1: FALSE\n",
      "\n",
      "Case #2: TRUE\n",
      "\n",
      "Case #3: TRUE\n",
      "\n",
      "Case #4: TRUE\n",
      "\n",
      "Case #5: FALSE\n",
      "\n",
      "Wall time: 2 ms\n"
     ]
    }
   ],
   "source": [
    "%%time\n",
    "from collections import defaultdict\n",
    "\n",
    "cache = {}\n",
    "infile = open('test.txt')\n",
    "outfile = open('out.txt', 'w')\n",
    "T = int(infile.readline().strip())\n",
    "for t in range(1, T+1):\n",
    "    pattern1 = infile.readline().strip().replace('*', '####') + '.'\n",
    "    pattern2 = infile.readline().strip().replace('*', '####') + '.'\n",
    "    \n",
    "    dp = defaultdict(bool)\n",
    "    for a in reversed(xrange(len(pattern1))):\n",
    "        for b in reversed(xrange(len(pattern2))):\n",
    "            if a == len(pattern1)-1 and b == len(pattern2)-1:\n",
    "                dp[(a,b)] = True\n",
    "            elif pattern1[a] == '#' or pattern2[b] == '#':\n",
    "                if pattern1[a] == '#':\n",
    "                    dp[(a,b)] = dp[(a,b)] or dp[(a+1, b)] or dp[(a+1, b+1)]\n",
    "                if pattern2[b] == '#':\n",
    "                    dp[(a,b)] = dp[(a,b)] or dp[(a, b+1)] or dp[(a+1, b+1)]\n",
    "            elif pattern1[a] == pattern2[b]:\n",
    "                dp[(a,b)] = dp[(a+1, b+1)]\n",
    "            else:\n",
    "                dp[(a,b)] = False\n",
    "    print('Case #{}: {}\\n'.format(t, str(dp[(0,0)]).upper()))\n",
    "    outfile.write('Case #{}: {}\\n'.format(t, str(dp[(0,0)]).upper()))\n",
    "\n",
    "infile.close()\n",
    "outfile.close()\n",
    "                \n",
    "    "
   ]
  },
  {
   "cell_type": "code",
   "execution_count": 56,
   "metadata": {
    "collapsed": false
   },
   "outputs": [
    {
     "data": {
      "text/plain": [
       "defaultdict(bool,\n",
       "            {(0, 0): True,\n",
       "             (0, 1): True,\n",
       "             (0, 2): True,\n",
       "             (1, 0): True,\n",
       "             (1, 1): True,\n",
       "             (1, 2): True,\n",
       "             (2, 0): True,\n",
       "             (2, 1): True,\n",
       "             (2, 2): True,\n",
       "             (3, 0): True,\n",
       "             (3, 1): True,\n",
       "             (3, 2): True,\n",
       "             (4, 0): True,\n",
       "             (4, 1): True,\n",
       "             (4, 2): True,\n",
       "             (5, 0): True,\n",
       "             (5, 1): True,\n",
       "             (5, 2): True,\n",
       "             (6, 0): True,\n",
       "             (6, 1): True,\n",
       "             (6, 2): True,\n",
       "             (7, 0): True,\n",
       "             (7, 1): True,\n",
       "             (7, 2): True,\n",
       "             (8, 0): True,\n",
       "             (8, 1): True,\n",
       "             (8, 2): True,\n",
       "             (9, 0): True,\n",
       "             (9, 1): True,\n",
       "             (9, 2): True,\n",
       "             (10, 0): True,\n",
       "             (10, 1): True,\n",
       "             (10, 2): True,\n",
       "             (11, 0): True,\n",
       "             (11, 1): True,\n",
       "             (11, 2): True,\n",
       "             (12, 0): True,\n",
       "             (12, 1): True,\n",
       "             (12, 2): True,\n",
       "             (13, 0): True,\n",
       "             (13, 1): True,\n",
       "             (13, 2): True,\n",
       "             (14, 0): True,\n",
       "             (14, 1): True,\n",
       "             (14, 2): True,\n",
       "             (15, 0): False,\n",
       "             (15, 1): True,\n",
       "             (15, 2): True,\n",
       "             (16, 0): False,\n",
       "             (16, 1): False,\n",
       "             (16, 2): True})"
      ]
     },
     "execution_count": 56,
     "metadata": {},
     "output_type": "execute_result"
    }
   ],
   "source": [
    "dp"
   ]
  },
  {
   "cell_type": "code",
   "execution_count": 37,
   "metadata": {
    "collapsed": false
   },
   "outputs": [
    {
     "ename": "IndexError",
     "evalue": "list index out of range",
     "output_type": "error",
     "traceback": [
      "\u001b[1;31m---------------------------------------------------------------------------\u001b[0m",
      "\u001b[1;31mIndexError\u001b[0m                                Traceback (most recent call last)",
      "\u001b[1;32m<ipython-input-37-ed224ad0520d>\u001b[0m in \u001b[0;36m<module>\u001b[1;34m()\u001b[0m\n\u001b[1;32m----> 1\u001b[1;33m \u001b[0mx\u001b[0m\u001b[1;33m[\u001b[0m\u001b[1;36m3\u001b[0m\u001b[1;33m]\u001b[0m\u001b[1;33m\u001b[0m\u001b[0m\n\u001b[0m",
      "\u001b[1;31mIndexError\u001b[0m: list index out of range"
     ]
    }
   ],
   "source": []
  }
 ],
 "metadata": {
  "kernelspec": {
   "display_name": "Python 2",
   "language": "python",
   "name": "python2"
  },
  "language_info": {
   "codemirror_mode": {
    "name": "ipython",
    "version": 2
   },
   "file_extension": ".py",
   "mimetype": "text/x-python",
   "name": "python",
   "nbconvert_exporter": "python",
   "pygments_lexer": "ipython2",
   "version": "2.7.12"
  }
 },
 "nbformat": 4,
 "nbformat_minor": 1
}
