{
 "cells": [
  {
   "cell_type": "code",
   "execution_count": 21,
   "metadata": {
    "collapsed": false
   },
   "outputs": [],
   "source": [
    "def smallest_n(K):\n",
    "    for i in xrange(1, 10000):\n",
    "        if 2 ** i - 1 >= K:\n",
    "            return i\n",
    "\n",
    "def S(n, K):\n",
    "    mid = 2**(n-1)\n",
    "    if mid == K:\n",
    "        return 0\n",
    "    if mid > K:\n",
    "        return S(n-1, K)\n",
    "    \n",
    "    return 1 - S(n-1, 2**n - K)\n",
    "\n",
    "def solve(K):\n",
    "    n = smallest_n(K)\n",
    "    return S(n, K)\n",
    "\n",
    "infile = open('A-large-practice.in')\n",
    "outfile = open('out.txt', 'w')\n",
    "T = int(infile.readline())\n",
    "for t in range(1, T+1):\n",
    "    K = int(infile.readline())\n",
    "    outfile.write('Case #{}: {}\\n'.format(t, solve(K)))\n",
    "\n",
    "infile.close()\n",
    "outfile.close()\n",
    "\n",
    "\n",
    "        "
   ]
  }
 ],
 "metadata": {
  "kernelspec": {
   "display_name": "Python 2",
   "language": "python",
   "name": "python2"
  },
  "language_info": {
   "codemirror_mode": {
    "name": "ipython",
    "version": 2
   },
   "file_extension": ".py",
   "mimetype": "text/x-python",
   "name": "python",
   "nbconvert_exporter": "python",
   "pygments_lexer": "ipython2",
   "version": "2.7.12"
  }
 },
 "nbformat": 4,
 "nbformat_minor": 1
}
