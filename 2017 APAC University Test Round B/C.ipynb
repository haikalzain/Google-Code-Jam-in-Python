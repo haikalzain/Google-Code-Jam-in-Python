{
 "cells": [
  {
   "cell_type": "code",
   "execution_count": 34,
   "metadata": {
    "collapsed": false
   },
   "outputs": [
    {
     "name": "stdout",
     "output_type": "stream",
     "text": [
      "1\n",
      "2\n",
      "3\n",
      "4\n",
      "5\n",
      "6\n",
      "7\n",
      "8\n",
      "9\n",
      "10\n",
      "11\n",
      "12\n",
      "13\n",
      "14\n",
      "15\n",
      "16\n",
      "17\n",
      "18\n",
      "19\n",
      "20\n",
      "21\n",
      "22\n",
      "23\n",
      "24\n",
      "25\n",
      "26\n",
      "27\n",
      "28\n",
      "29\n",
      "30\n",
      "31\n",
      "32\n",
      "33\n",
      "34\n",
      "35\n",
      "36\n",
      "37\n",
      "38\n",
      "39\n",
      "40\n",
      "41\n",
      "42\n",
      "43\n",
      "44\n",
      "45\n",
      "46\n",
      "47\n",
      "48\n",
      "49\n",
      "50\n",
      "Wall time: 1min 26s\n"
     ]
    }
   ],
   "source": [
    "%%time\n",
    "import numpy as np\n",
    "infile = open('C-large-practice.in')\n",
    "outfile = open('out.txt', 'w')\n",
    "T = int(infile.readline())\n",
    "for t in range(1, T+1):\n",
    "    print t\n",
    "    N, L1, R1, A, B, C1, C2, M = map(int, infile.readline().split())\n",
    "    L = np.zeros(N, 'int64')\n",
    "    R = np.zeros(N, 'int64')\n",
    "    L[0] = L1\n",
    "    R[0] = R1\n",
    "    oldx = L1\n",
    "    oldy = R1\n",
    "    for i in range(1, N):\n",
    "        x = (A * oldx + B * oldy + C1) % M\n",
    "        y = (A * oldy + B * oldx + C2) % M\n",
    "        L[i], R[i] = min(x, y), max(x, y)\n",
    "        oldx, oldy = x, y\n",
    "    #print L, R\n",
    "    outfile.write('Case #{}: {}\\n'.format(t, solve(L, R)))\n",
    "infile.close()\n",
    "outfile.close()\n",
    "    "
   ]
  },
  {
   "cell_type": "code",
   "execution_count": 30,
   "metadata": {
    "collapsed": false
   },
   "outputs": [
    {
     "data": {
      "text/plain": [
       "6"
      ]
     },
     "execution_count": 30,
     "metadata": {},
     "output_type": "execute_result"
    }
   ],
   "source": [
    "from itertools import izip\n",
    "def solve(L, R):\n",
    "    positions = set()\n",
    "    for l, r in izip(L, R):\n",
    "        positions.add(l-1)\n",
    "        positions.add(l)\n",
    "        positions.add(r)\n",
    "        positions.add(r+1)\n",
    "    N = len(positions)\n",
    "    positions = list(positions)\n",
    "    positions.sort()\n",
    "    mapping = {v: i for i, v in enumerate(positions)}\n",
    "    width = np.zeros(N, int)\n",
    "\n",
    "    for i in range(len(positions)):\n",
    "        if i == 0:\n",
    "            width[i] = 0\n",
    "        else:\n",
    "            width[i] = positions[i] - positions[i-1]\n",
    "    \n",
    "    count = np.zeros(N, int)\n",
    "    single = np.zeros(N, int)\n",
    "    covered = np.zeros(N, int)\n",
    "    \n",
    "    #print width\n",
    "    #print positions\n",
    "    \n",
    "    for l, r in izip(L, R):\n",
    "        l, r = mapping[l], mapping[r+1]\n",
    "        count[l] += 1\n",
    "        count[r] -= 1\n",
    "    count = np.cumsum(count)\n",
    "    for (i, ), val in np.ndenumerate(count):\n",
    "        if val == 1:\n",
    "            single[i] = width[i]\n",
    "        if val != 0:\n",
    "            covered[i] = width[i]\n",
    "        \n",
    "    #print count\n",
    "    #print single\n",
    "    #print covered\n",
    "    \n",
    "    psum = np.cumsum(single, dtype=int)\n",
    "    all_covered = sum(covered)\n",
    "    best = 1000000000\n",
    "    for l, r in izip(L, R):\n",
    "        l, r = mapping[l-1], mapping[r]\n",
    "        best = min(best, all_covered - (psum[r] - psum[l]))\n",
    "    \n",
    "    return best\n",
    "\n",
    "L = [0, 3, 5]\n",
    "R = [5, 5, 10]\n",
    "solve(L, R)"
   ]
  },
  {
   "cell_type": "code",
   "execution_count": 15,
   "metadata": {
    "collapsed": false
   },
   "outputs": [
    {
     "name": "stdout",
     "output_type": "stream",
     "text": [
      "[0 1 1 1 1 1 1 1]\n",
      "[0, 1, 2, 3, 4, 5, 6, 7]\n"
     ]
    },
    {
     "data": {
      "text/plain": [
       "4"
      ]
     },
     "execution_count": 15,
     "metadata": {},
     "output_type": "execute_result"
    }
   ],
   "source": []
  },
  {
   "cell_type": "code",
   "execution_count": 11,
   "metadata": {
    "collapsed": false
   },
   "outputs": [
    {
     "ename": "NameError",
     "evalue": "name 'width' is not defined",
     "output_type": "error",
     "traceback": [
      "\u001b[1;31m---------------------------------------------------------------------------\u001b[0m",
      "\u001b[1;31mNameError\u001b[0m                                 Traceback (most recent call last)",
      "\u001b[1;32m<ipython-input-11-55695ada3823>\u001b[0m in \u001b[0;36m<module>\u001b[1;34m()\u001b[0m\n\u001b[1;32m----> 1\u001b[1;33m \u001b[0mwidth\u001b[0m\u001b[1;33m\u001b[0m\u001b[0m\n\u001b[0m",
      "\u001b[1;31mNameError\u001b[0m: name 'width' is not defined"
     ]
    }
   ],
   "source": [
    "width"
   ]
  }
 ],
 "metadata": {
  "kernelspec": {
   "display_name": "Python 2",
   "language": "python",
   "name": "python2"
  },
  "language_info": {
   "codemirror_mode": {
    "name": "ipython",
    "version": 2
   },
   "file_extension": ".py",
   "mimetype": "text/x-python",
   "name": "python",
   "nbconvert_exporter": "python",
   "pygments_lexer": "ipython2",
   "version": "2.7.12"
  }
 },
 "nbformat": 4,
 "nbformat_minor": 1
}
