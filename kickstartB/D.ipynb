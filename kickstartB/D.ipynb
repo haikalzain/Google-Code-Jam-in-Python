{
 "cells": [
  {
   "cell_type": "code",
   "execution_count": 1,
   "metadata": {
    "collapsed": false
   },
   "outputs": [
    {
     "data": {
      "text/plain": [
       "1125899906842624L"
      ]
     },
     "execution_count": 1,
     "metadata": {},
     "output_type": "execute_result"
    }
   ],
   "source": [
    "infile = open('test.txt')\n",
    "outfile = open('out.txt')\n",
    "\n",
    "T = int(infile.realine())\n",
    "for t in range(1, T+1):\n",
    "    "
   ]
  },
  {
   "cell_type": "code",
   "execution_count": 12,
   "metadata": {
    "collapsed": false
   },
   "outputs": [
    {
     "name": "stdout",
     "output_type": "stream",
     "text": [
      "(0, 0, 0, 0, 0, 'a')\n",
      "(1, 1, 0, 0, 0, 'a')\n",
      "(2, 2, 0, 0, 0, 'a')\n",
      "(2, 2, 0, 0, 0, 'b')\n",
      "(3, 2, 1, 0, 0, 'b')\n",
      "(3, 2, 1, 0, 0, 'c')\n",
      "(4, 2, 1, 1, 0, 'c')\n",
      "(5, 2, 1, 1, 0, 'c')\n",
      "(4, 2, 1, 0, 0, 'c')\n",
      "(5, 2, 1, 0, 0, 'c')\n",
      "(4, 2, 1, 0, 0, 'b')\n",
      "(4, 2, 1, 0, 0, 'c')\n",
      "(5, 2, 1, 0, 0, 'b')\n",
      "(2, 2, 0, 0, 0, 'c')\n",
      "(3, 2, 0, 0, 0, 'c')\n",
      "(4, 2, 0, 1, 0, 'c')\n",
      "(5, 2, 0, 1, 0, 'c')\n",
      "(4, 2, 0, 0, 0, 'c')\n",
      "(5, 2, 0, 0, 0, 'c')\n",
      "(3, 2, 0, 0, 0, 'b')\n",
      "(3, 2, 0, 0, 0, 'c')\n",
      "(4, 2, 0, 0, 0, 'b')\n",
      "(4, 2, 0, 0, 0, 'c')\n",
      "(5, 2, 0, 0, 0, 'b')\n",
      "(3, 2, 0, 0, 0, 'a')\n",
      "(3, 2, 0, 0, 0, 'b')\n",
      "(4, 2, 0, 0, 0, 'a')\n",
      "(4, 2, 0, 0, 0, 'b')\n",
      "(5, 2, 0, 0, 0, 'a')\n",
      "(1, 1, 0, 0, 0, 'b')\n",
      "(1, 1, 0, 0, 0, 'c')\n",
      "(2, 1, 0, 0, 0, 'c')\n",
      "(3, 1, 0, 0, 0, 'c')\n",
      "(4, 1, 0, 1, 0, 'c')\n",
      "(4, 1, 0, 1, 0, 'd')\n",
      "(5, 1, 0, 1, 1, 'd')\n",
      "(5, 1, 0, 1, 0, 'd')\n",
      "(5, 1, 0, 1, 0, 'c')\n",
      "(4, 1, 0, 0, 0, 'c')\n",
      "(5, 1, 0, 0, 0, 'c')\n",
      "(2, 1, 0, 0, 0, 'b')\n",
      "(3, 1, 1, 0, 0, 'b')\n",
      "(3, 1, 1, 0, 0, 'c')\n",
      "(4, 1, 1, 1, 0, 'c')\n",
      "(4, 1, 1, 1, 0, 'd')\n",
      "(5, 1, 1, 1, 1, 'd')\n",
      "(5, 1, 1, 1, 0, 'd')\n",
      "(5, 1, 1, 1, 0, 'c')\n",
      "(4, 1, 1, 0, 0, 'c')\n",
      "(5, 1, 1, 0, 0, 'c')\n",
      "(4, 1, 1, 0, 0, 'b')\n",
      "(4, 1, 1, 0, 0, 'c')\n",
      "(5, 1, 1, 0, 0, 'b')\n",
      "(2, 1, 0, 0, 0, 'c')\n",
      "(3, 1, 0, 0, 0, 'b')\n",
      "(3, 1, 0, 0, 0, 'c')\n",
      "(4, 1, 0, 0, 0, 'b')\n",
      "(4, 1, 0, 0, 0, 'c')\n",
      "(5, 1, 0, 0, 0, 'b')\n",
      "(2, 1, 0, 0, 0, 'a')\n",
      "(2, 1, 0, 0, 0, 'b')\n",
      "(3, 1, 0, 0, 0, 'a')\n",
      "(3, 1, 0, 0, 0, 'b')\n",
      "(4, 1, 0, 0, 0, 'a')\n",
      "(4, 1, 0, 0, 0, 'b')\n",
      "(5, 1, 0, 0, 0, 'a')\n",
      "(0, 0, 0, 0, 0, 'b')\n",
      "(0, 0, 0, 0, 0, 'c')\n",
      "(0, 0, 0, 0, 0, 'd')\n",
      "(1, 0, 0, 0, 0, 'd')\n",
      "(2, 0, 0, 0, 0, 'd')\n",
      "(3, 0, 0, 0, 0, 'd')\n",
      "(4, 0, 0, 0, 0, 'd')\n",
      "(5, 0, 0, 0, 1, 'd')\n",
      "(5, 0, 0, 0, 0, 'd')\n",
      "(1, 0, 0, 0, 0, 'c')\n",
      "(1, 0, 0, 0, 0, 'd')\n",
      "(2, 0, 0, 0, 0, 'c')\n",
      "(2, 0, 0, 0, 0, 'd')\n",
      "(3, 0, 0, 0, 0, 'c')\n",
      "(4, 0, 0, 1, 0, 'c')\n",
      "(3, 0, 0, 0, 0, 'd')\n",
      "(4, 0, 0, 0, 0, 'c')\n",
      "(4, 0, 0, 0, 0, 'd')\n",
      "(5, 0, 0, 0, 0, 'c')\n",
      "(1, 0, 0, 0, 0, 'b')\n",
      "(1, 0, 0, 0, 0, 'c')\n",
      "(2, 0, 0, 0, 0, 'b')\n",
      "(3, 0, 1, 0, 0, 'b')\n",
      "(3, 0, 1, 0, 0, 'c')\n",
      "(4, 0, 1, 1, 0, 'c')\n",
      "(3, 0, 1, 0, 0, 'd')\n",
      "(4, 0, 1, 0, 0, 'd')\n",
      "(5, 0, 1, 0, 1, 'd')\n",
      "(5, 0, 1, 0, 0, 'd')\n",
      "(4, 0, 1, 0, 0, 'c')\n",
      "(4, 0, 1, 0, 0, 'd')\n",
      "(5, 0, 1, 0, 0, 'c')\n",
      "(4, 0, 1, 0, 0, 'b')\n",
      "(4, 0, 1, 0, 0, 'c')\n",
      "(5, 0, 1, 0, 0, 'b')\n",
      "(2, 0, 0, 0, 0, 'c')\n",
      "(3, 0, 0, 0, 0, 'b')\n",
      "(3, 0, 0, 0, 0, 'c')\n",
      "(4, 0, 0, 0, 0, 'b')\n",
      "(4, 0, 0, 0, 0, 'c')\n",
      "(5, 0, 0, 0, 0, 'b')\n",
      "(1, 0, 0, 0, 0, 'a')\n",
      "(2, 1, 0, 0, 0, 'a')\n",
      "(1, 0, 0, 0, 0, 'b')\n",
      "(2, 0, 0, 0, 0, 'a')\n",
      "(2, 0, 0, 0, 0, 'b')\n",
      "(3, 0, 0, 0, 0, 'a')\n",
      "(3, 0, 0, 0, 0, 'b')\n",
      "(4, 0, 0, 0, 0, 'a')\n",
      "(4, 0, 0, 0, 0, 'b')\n",
      "(5, 0, 0, 0, 0, 'a')\n"
     ]
    },
    {
     "data": {
      "text/plain": [
       "3"
      ]
     },
     "execution_count": 12,
     "metadata": {},
     "output_type": "execute_result"
    }
   ],
   "source": [
    "MOD = 1000000007\n",
    "\n",
    "def solve(code):\n",
    "    mem = {}\n",
    "    def dp(n, alen, blen, clen, dlen, letter):\n",
    "        print(n, alen, blen, clen, dlen, letter)\n",
    "        result = 0\n",
    "        if n == len(code):\n",
    "            if alen == clen and blen == dlen and alen > 0 and blen > 0 and letter =='d':\n",
    "                return 1\n",
    "            else:\n",
    "                return 0\n",
    "        if clen > alen or dlen > blen:\n",
    "            return 0\n",
    "        \n",
    "        if (n, alen, blen, clen, dlen, letter) in mem:\n",
    "            return mem[(n, alen, blen, clen, dlen, letter)]\n",
    "        \n",
    "        if letter == code[n]:\n",
    "            if letter == 'a':\n",
    "                result += dp(n+1, alen+1, blen, clen, dlen, 'a')\n",
    "            elif letter == 'b':\n",
    "                result += dp(n+1, alen, blen+1, clen, dlen, 'b')\n",
    "            elif letter == 'c':\n",
    "                result += dp(n+1, alen, blen, clen+1, dlen, 'c')\n",
    "            elif letter == 'd':\n",
    "                result += dp(n+1, alen, blen, clen, dlen + 1, 'd')\n",
    "        \n",
    "        if letter == 'a':\n",
    "            result += dp(n, alen, blen, clen, dlen, 'b')\n",
    "        elif letter == 'b':\n",
    "            result += dp(n, alen, blen, clen, dlen, 'c')\n",
    "        elif letter == 'c' and alen == clen:\n",
    "            result += dp(n, alen, blen, clen, dlen, 'd')\n",
    "        \n",
    "        result += dp(n+1, alen, blen, clen, dlen, letter)\n",
    "        \n",
    "        mem[(n, alen, blen, clen, dlen, letter)] = result % MOD\n",
    "        return mem[(n, alen, blen, clen, dlen, letter)]\n",
    "    \n",
    "    return dp(0, 0, 0, 0, 0, 'a')\n",
    "    #outfile.write('Case #{}: {}', )\n",
    "    \n",
    "            \n",
    "            \n",
    "    \n",
    "solve('aabcd')"
   ]
  },
  {
   "cell_type": "code",
   "execution_count": 2,
   "metadata": {
    "collapsed": false
   },
   "outputs": [
    {
     "ename": "TypeError",
     "evalue": "cannot concatenate 'str' and 'int' objects",
     "output_type": "error",
     "traceback": [
      "\u001b[1;31m---------------------------------------------------------------------------\u001b[0m",
      "\u001b[1;31mTypeError\u001b[0m                                 Traceback (most recent call last)",
      "\u001b[1;32m<ipython-input-2-ad2b220c7e96>\u001b[0m in \u001b[0;36m<module>\u001b[1;34m()\u001b[0m\n\u001b[1;32m----> 1\u001b[1;33m \u001b[1;34m'a'\u001b[0m \u001b[1;33m+\u001b[0m \u001b[1;36m1\u001b[0m\u001b[1;33m\u001b[0m\u001b[0m\n\u001b[0m",
      "\u001b[1;31mTypeError\u001b[0m: cannot concatenate 'str' and 'int' objects"
     ]
    }
   ],
   "source": [
    "'a' + 1"
   ]
  }
 ],
 "metadata": {
  "kernelspec": {
   "display_name": "Python 2",
   "language": "python",
   "name": "python2"
  },
  "language_info": {
   "codemirror_mode": {
    "name": "ipython",
    "version": 2
   },
   "file_extension": ".py",
   "mimetype": "text/x-python",
   "name": "python",
   "nbconvert_exporter": "python",
   "pygments_lexer": "ipython2",
   "version": "2.7.12"
  }
 },
 "nbformat": 4,
 "nbformat_minor": 1
}
