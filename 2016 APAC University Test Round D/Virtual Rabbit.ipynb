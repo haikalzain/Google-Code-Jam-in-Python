{
 "cells": [
  {
   "cell_type": "code",
   "execution_count": 74,
   "metadata": {
    "collapsed": false
   },
   "outputs": [],
   "source": [
    "infile = open('D-large-practice.in')\n",
    "#infile = open('test.txt')\n",
    "outfile = open('out.txt', 'w')\n",
    "T = int(infile.readline())\n",
    "\n",
    "DAY = 24 * 60 * 60\n",
    "\n",
    "def convert_time(string):\n",
    "    nums = map(int, string.split(':'))\n",
    "    return nums[0] * 60 * 60 + nums[1] * 60 + nums[2]\n",
    "\n",
    "def convert_back(x):\n",
    "    num = [0 for _ in range(3)]\n",
    "    num[0] = x / 60 / 60\n",
    "    x %= 3600\n",
    "    num[1] = x / 60\n",
    "    x%=60\n",
    "    num[2] = x\n",
    "    return '{:02d}:{:02d}:{:02d}'.format(*num)\n",
    "\n",
    "def feed(time, day):\n",
    "    new_time = (time + X) % DAY\n",
    "    new_day = day + (new_time < time)\n",
    "    \n",
    "    if new_time < G:\n",
    "        return B-1, new_day - 1\n",
    "    elif new_time < W:\n",
    "        return new_time, new_day\n",
    "    elif new_time < H:\n",
    "        return W-1, new_day\n",
    "    elif new_time < B:\n",
    "        return new_time, new_day\n",
    "    else:\n",
    "        return B-1, new_day\n",
    "\n",
    "def solve():\n",
    "    \n",
    "    time, day = 0, 0\n",
    "    fed = -1\n",
    "    #jumped = False\n",
    "    while True:\n",
    "        new_time, new_day = feed(time, day)\n",
    "        #print convert_back(new_time), new_day\n",
    "        #print new_time, new_day, G, W, H, B, time + X, day\n",
    "        fed += 1\n",
    "        if new_day >= D or day == D-1 and time + X >= DAY:\n",
    "            return fed\n",
    "        elif new_time in times:\n",
    "            init_day = times[new_time][0]\n",
    "            fed_cycle = fed - times[new_time][1]\n",
    "            day_cycle = new_day - init_day\n",
    "            \n",
    "            if day_cycle == 0:\n",
    "                return -1\n",
    "            \n",
    "            n_cycles = (D - new_day - 5) / day_cycle\n",
    "            n_cycles= max(0, n_cycles)\n",
    "            day = new_day + n_cycles * day_cycle\n",
    "            time = new_time\n",
    "            fed += n_cycles * fed_cycle\n",
    "        else:\n",
    "            times[new_time] = (new_day, fed)\n",
    "            time, day = new_time, new_day\n",
    "        \n",
    "for t in range(1, T+1):\n",
    "    times = {}\n",
    "    G, W, H, B, X = [convert_time(infile.readline()) for _ in range(5)]\n",
    "    D = int(infile.readline())\n",
    "    ans = solve()\n",
    "    outfile.write('Case #{}: {}\\n'.format(t, ans))\n",
    "\n",
    "infile.close()\n",
    "outfile.close()\n",
    "    \n",
    "    "
   ]
  },
  {
   "cell_type": "code",
   "execution_count": 22,
   "metadata": {
    "collapsed": false
   },
   "outputs": [
    {
     "data": {
      "text/plain": [
       "43200"
      ]
     },
     "execution_count": 22,
     "metadata": {},
     "output_type": "execute_result"
    }
   ],
   "source": [
    "convert_time('12:00:00')"
   ]
  },
  {
   "cell_type": "code",
   "execution_count": 64,
   "metadata": {
    "collapsed": false
   },
   "outputs": [
    {
     "data": {
      "text/plain": [
       "'12:00:10'"
      ]
     },
     "execution_count": 64,
     "metadata": {},
     "output_type": "execute_result"
    }
   ],
   "source": [
    "convert_back(43210)"
   ]
  }
 ],
 "metadata": {
  "kernelspec": {
   "display_name": "Python 2",
   "language": "python",
   "name": "python2"
  },
  "language_info": {
   "codemirror_mode": {
    "name": "ipython",
    "version": 2
   },
   "file_extension": ".py",
   "mimetype": "text/x-python",
   "name": "python",
   "nbconvert_exporter": "python",
   "pygments_lexer": "ipython2",
   "version": "2.7.12"
  }
 },
 "nbformat": 4,
 "nbformat_minor": 1
}
