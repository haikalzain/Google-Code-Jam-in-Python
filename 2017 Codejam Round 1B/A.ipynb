{
 "cells": [
  {
   "cell_type": "code",
   "execution_count": 32,
   "metadata": {
    "collapsed": false
   },
   "outputs": [],
   "source": [
    "infile = open('A-large-practice.in')\n",
    "outfile = open('out.txt', 'w')\n",
    "T = int(infile.readline())\n",
    "for t in range(1, T+1):\n",
    "    D, N = map(int, infile.readline().split())\n",
    "    horses = [map(float, infile.readline().split()) for _ in range(N)]\n",
    "    horses.append([float(D), 0])\n",
    "    horses.sort()\n",
    "    #print horses\n",
    "    outfile.write('Case #{}: {}\\n'.format(t, solve(D, horses)))\n",
    "\n",
    "infile.close()\n",
    "outfile.close()"
   ]
  },
  {
   "cell_type": "code",
   "execution_count": 31,
   "metadata": {
    "collapsed": false
   },
   "outputs": [
    {
     "data": {
      "text/plain": [
       "1.0526315789473684"
      ]
     },
     "execution_count": 31,
     "metadata": {},
     "output_type": "execute_result"
    }
   ],
   "source": [
    "def solve(D, horses):\n",
    "    time = 0\n",
    "    while len(horses) > 1:\n",
    "        mintime = []\n",
    "        for i in range(len(horses) - 1):\n",
    "            d = horses[i+1][0] - horses[i][0]\n",
    "            s = horses[i][1] - horses[i+1][1]\n",
    "            if s > 0:\n",
    "                mintime.append((d/s, i))\n",
    "        min_time, min_i = min(mintime)\n",
    "        horses.pop(min_i)\n",
    "        for i in range(len(horses)):\n",
    "            horses[i][0] += min_time * horses[i][1]\n",
    "        \n",
    "        time += min_time\n",
    "    return D/time\n",
    "        \n",
    "solve(100, [[1.0, 2.0], [5.0, 1.0], [100.0, 1.0], [100.0, 0.0]])"
   ]
  }
 ],
 "metadata": {
  "kernelspec": {
   "display_name": "Python 2",
   "language": "python",
   "name": "python2"
  },
  "language_info": {
   "codemirror_mode": {
    "name": "ipython",
    "version": 2
   },
   "file_extension": ".py",
   "mimetype": "text/x-python",
   "name": "python",
   "nbconvert_exporter": "python",
   "pygments_lexer": "ipython2",
   "version": "2.7.12"
  }
 },
 "nbformat": 4,
 "nbformat_minor": 1
}
