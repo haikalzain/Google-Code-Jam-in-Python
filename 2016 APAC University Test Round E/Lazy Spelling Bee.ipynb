{
 "cells": [
  {
   "cell_type": "code",
   "execution_count": 9,
   "metadata": {
    "collapsed": false
   },
   "outputs": [],
   "source": [
    "infile = open('A-large-practice.in')\n",
    "outfile = open('out.txt', 'w')\n",
    "T = int(infile.readline())\n",
    "for t in range(1, T+1):\n",
    "    word = infile.readline().strip()\n",
    "    outfile.write('Case #{}: {}\\n'.format(t, solve(word)))\n",
    "infile.close()\n",
    "outfile.close()"
   ]
  },
  {
   "cell_type": "code",
   "execution_count": 5,
   "metadata": {
    "collapsed": false
   },
   "outputs": [
    {
     "data": {
      "text/plain": [
       "8"
      ]
     },
     "execution_count": 5,
     "metadata": {},
     "output_type": "execute_result"
    }
   ],
   "source": [
    "def solve(word):\n",
    "    MOD = 1000000007\n",
    "    prod = 1\n",
    "    for i, ch in enumerate(word):\n",
    "        options = set()\n",
    "        if i > 0:\n",
    "            options.add(word[i-1])\n",
    "        if i < len(word) - 1:\n",
    "            options.add(word[i+1])\n",
    "        options.add(ch)\n",
    "        prod *= len(options)\n",
    "        prod %= MOD\n",
    "    return prod\n"
   ]
  }
 ],
 "metadata": {
  "kernelspec": {
   "display_name": "Python 2",
   "language": "python",
   "name": "python2"
  },
  "language_info": {
   "codemirror_mode": {
    "name": "ipython",
    "version": 2
   },
   "file_extension": ".py",
   "mimetype": "text/x-python",
   "name": "python",
   "nbconvert_exporter": "python",
   "pygments_lexer": "ipython2",
   "version": "2.7.12"
  }
 },
 "nbformat": 4,
 "nbformat_minor": 1
}
