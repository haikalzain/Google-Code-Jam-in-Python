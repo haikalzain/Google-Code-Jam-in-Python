{
 "cells": [
  {
   "cell_type": "code",
   "execution_count": 29,
   "metadata": {
    "collapsed": false
   },
   "outputs": [],
   "source": [
    "infile = open('test.txt')\n",
    "outfile = open('out.txt','w')\n",
    "T = int(infile.readline())\n",
    "for t in range(1, T+1):\n",
    "    N, M, K = map(int, infile.readline().split())\n",
    "    grid = [list(infile.readline().strip()) for _ in range(N)]\n",
    "    outfile.write('Case #{}: {}\\n'.format(t, solve(N,M,grid)**2))\n",
    "\n",
    "infile.close()\n",
    "outfile.close()"
   ]
  },
  {
   "cell_type": "code",
   "execution_count": null,
   "metadata": {
    "collapsed": true
   },
   "outputs": [],
   "source": [
    "INF = 1000000000\n",
    "def f(r, c, k, grid):\n",
    "    return g(r+1,c,k-1) ** 2 #check\n",
    "\n",
    "def g(r,c, k, grid):\n",
    "    if (r != 0 or grid[r-1][c] != '#') and k > 0:\n",
    "        return -INF\n",
    "    \n",
    "    "
   ]
  },
  {
   "cell_type": "code",
   "execution_count": 24,
   "metadata": {
    "collapsed": false
   },
   "outputs": [],
   "source": [
    "pmem = {}\n",
    "def solve(N, M, grid):\n",
    "    pmem.clear()\n",
    "    best = 0\n",
    "    for i in range(N):\n",
    "        for j in range(M):\n",
    "            best = max(best, pyramid(i,j,grid))\n",
    "    return best\n",
    "\n",
    "def pyramid(r, c, grid):\n",
    "    if (r,c) in pmem:\n",
    "        return pmem[(r,c)]\n",
    "    if grid[r][c] == '.':\n",
    "        return 0\n",
    "    if r == N-1 or c == 0 or c + 1 == M:\n",
    "        return 1\n",
    "    m = pyramid(r+1, c, grid)\n",
    "    m= min(pyramid(r+1,c-1,grid), m)\n",
    "    m = min(pyramid(r+1, c+1,grid), m)\n",
    "    pmem[(r,c)] = 1 + m\n",
    "    return pmem[(r,c)]\n",
    "    \n",
    "    "
   ]
  }
 ],
 "metadata": {
  "kernelspec": {
   "display_name": "Python 2",
   "language": "python",
   "name": "python2"
  },
  "language_info": {
   "codemirror_mode": {
    "name": "ipython",
    "version": 2
   },
   "file_extension": ".py",
   "mimetype": "text/x-python",
   "name": "python",
   "nbconvert_exporter": "python",
   "pygments_lexer": "ipython2",
   "version": "2.7.12"
  }
 },
 "nbformat": 4,
 "nbformat_minor": 1
}
