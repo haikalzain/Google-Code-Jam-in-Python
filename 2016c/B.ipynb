{
 "cells": [
  {
   "cell_type": "code",
   "execution_count": 7,
   "metadata": {
    "collapsed": true
   },
   "outputs": [],
   "source": [
    "import numpy as np\n",
    "from itertools import product\n",
    "def solve(B, M):\n",
    "    buildings = [1, 1]\n",
    "    soln = np.zeros((B, B), int)\n",
    "    while buildings[-1] < M and len(buildings) < B:\n",
    "        buildings.append(sum(buildings))\n",
    "    \n",
    "    if buildings[-1] < M:\n",
    "        return None\n",
    "    \n",
    "    buildings.pop()\n",
    "    for i, j in product(range(len(buildings)), range(len(buildings))):\n",
    "        if j > i:\n",
    "            soln[i, j] = 1\n",
    "    \n",
    "    j = B - 1\n",
    "    \n",
    "    for i, val in reversed(list(enumerate(buildings))):\n",
    "        if M >= val:\n",
    "            M -= val\n",
    "            soln[i, j] = 1\n",
    "    \n",
    "    return soln"
   ]
  },
  {
   "cell_type": "code",
   "execution_count": 23,
   "metadata": {
    "collapsed": false
   },
   "outputs": [],
   "source": [
    "infile = open('B-large-practice.in')\n",
    "outfile = open('out.txt', 'w')\n",
    "T = int(infile.readline())\n",
    "for t in range(1, T+1):\n",
    "    B, M = map(int, infile.readline().split())\n",
    "    soln = solve(B, M)\n",
    "    outfile.write('Case #{}: {}\\n'.format(t, 'POSSIBLE' if soln is not None else 'IMPOSSIBLE'))\n",
    "    if soln is not None:\n",
    "        for row in soln:\n",
    "            for item in row:\n",
    "                outfile.write(str(item))\n",
    "            outfile.write('\\n')\n",
    "infile.close()\n",
    "outfile.close()"
   ]
  },
  {
   "cell_type": "code",
   "execution_count": 14,
   "metadata": {
    "collapsed": false
   },
   "outputs": [
    {
     "ename": "TypeError",
     "evalue": "sequence item 0: expected string, int found",
     "output_type": "error",
     "traceback": [
      "\u001b[1;31m---------------------------------------------------------------------------\u001b[0m",
      "\u001b[1;31mTypeError\u001b[0m                                 Traceback (most recent call last)",
      "\u001b[1;32m<ipython-input-14-37595b1ebea7>\u001b[0m in \u001b[0;36m<module>\u001b[1;34m()\u001b[0m\n\u001b[1;32m----> 1\u001b[1;33m \u001b[1;34m''\u001b[0m\u001b[1;33m.\u001b[0m\u001b[0mjoin\u001b[0m\u001b[1;33m(\u001b[0m\u001b[1;33m[\u001b[0m\u001b[1;36m1\u001b[0m\u001b[1;33m,\u001b[0m\u001b[1;36m2\u001b[0m\u001b[1;33m]\u001b[0m\u001b[1;33m)\u001b[0m\u001b[1;33m\u001b[0m\u001b[0m\n\u001b[0m",
      "\u001b[1;31mTypeError\u001b[0m: sequence item 0: expected string, int found"
     ]
    }
   ],
   "source": [
    "''.join([1,2])"
   ]
  }
 ],
 "metadata": {
  "kernelspec": {
   "display_name": "Python 2",
   "language": "python",
   "name": "python2"
  },
  "language_info": {
   "codemirror_mode": {
    "name": "ipython",
    "version": 2
   },
   "file_extension": ".py",
   "mimetype": "text/x-python",
   "name": "python",
   "nbconvert_exporter": "python",
   "pygments_lexer": "ipython2",
   "version": "2.7.12"
  }
 },
 "nbformat": 4,
 "nbformat_minor": 1
}
