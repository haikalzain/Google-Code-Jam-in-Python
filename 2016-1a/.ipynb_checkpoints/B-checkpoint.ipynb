{
 "cells": [
  {
   "cell_type": "code",
   "execution_count": 14,
   "metadata": {
    "collapsed": false
   },
   "outputs": [],
   "source": [
    "from collections import *\n",
    "infile = open('B-large-practice.in')\n",
    "outfile = open('out.txt', 'w')\n",
    "T = int(infile.readline())\n",
    "for t in range(1, T+1):\n",
    "    N = int(infile.readline())\n",
    "    numbers = []\n",
    "    for _ in range(2*N-1):\n",
    "        numbers.extend(map(int, infile.readline().split()))\n",
    "    \n",
    "    counts = Counter(numbers)\n",
    "    soln = []\n",
    "    for number, count in counts.iteritems():\n",
    "        if count % 2 == 1:\n",
    "            soln.append(number)\n",
    "    \n",
    "    soln = map(str, sorted(soln))\n",
    "    \n",
    "    outfile.write('Case #{}: {}\\n'.format(t, ' '.join(soln)))\n",
    "\n",
    "infile.close()\n",
    "outfile.close()"
   ]
  }
 ],
 "metadata": {
  "kernelspec": {
   "display_name": "Python 2",
   "language": "python",
   "name": "python2"
  },
  "language_info": {
   "codemirror_mode": {
    "name": "ipython",
    "version": 2
   },
   "file_extension": ".py",
   "mimetype": "text/x-python",
   "name": "python",
   "nbconvert_exporter": "python",
   "pygments_lexer": "ipython2",
   "version": "2.7.12"
  }
 },
 "nbformat": 4,
 "nbformat_minor": 1
}
